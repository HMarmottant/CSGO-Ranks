{
 "cells": [
  {
   "cell_type": "code",
   "execution_count": 123,
   "metadata": {},
   "outputs": [],
   "source": [
    "from selenium import webdriver\n",
    "from selenium.webdriver.chrome.options import Options\n",
    "from selenium.webdriver.common.by import By\n",
    "import undetected_chromedriver\n",
    "from undetected_chromedriver import Chrome\n",
    "import pandas as pd\n",
    "from time import sleep\n",
    "from multiprocessing import Pool\n",
    "from functools import partial\n",
    "import os"
   ]
  },
  {
   "cell_type": "code",
   "execution_count": 124,
   "metadata": {},
   "outputs": [],
   "source": [
    "import selenium\n",
    "\n",
    "\n",
    "def fetchPlayer(playerID, driver):\n",
    "    driver.get(\"https://csgostats.gg/player/\" + str(playerID) + \"#/matches\")\n",
    "\n",
    "    matches = driver.find_element(By.ID,\"match-list-outer\")\n",
    "    # print(matches.get_attribute(\"textContent\"))\n",
    "    matches = matches.find_element(By.XPATH,\"./table/tbody\")\n",
    "    # attempt = 0\n",
    "    # while (len(matches) == 0) and (attempt < 10):\n",
    "    #     matches = driver.find_elements(By.XPATH,\"./table/tbody\")\n",
    "    #     attempt += 1\n",
    "    #     sleep(0.2)\n",
    "    print(matches)\n",
    "\n",
    "    matches = matches.find_elements(By.XPATH,\"./tr\")\n",
    "\n",
    "\n",
    "    playerstats = []\n",
    "\n",
    "    for match in matches:\n",
    "        stats = match.find_elements(By.XPATH,\"./td\")\n",
    "        summary = []\n",
    "        \n",
    "        for stat in stats:\n",
    "            summary.append(stat.get_attribute(\"textContent\").strip())\n",
    "            \n",
    "        playerstats.append(summary)\n",
    "\n",
    "\n",
    "    playerstats = pd.DataFrame(playerstats).to_csv(\"./PlayerStats/player\"+str(playerID)+\".csv\")\n",
    "        \n",
    "\n"
   ]
  },
  {
   "cell_type": "code",
   "execution_count": 125,
   "metadata": {},
   "outputs": [
    {
     "name": "stdout",
     "output_type": "stream",
     "text": [
      "<selenium.webdriver.remote.webelement.WebElement (session=\"96a091223431c1d5ba25e90cc8ce32ba\", element=\"bef4ed74-9cd8-4f04-b50f-52d8a8c05783\")>\n"
     ]
    }
   ],
   "source": [
    "# players = pd.DataFrame(columns=[\"0\",\"1\",\"Player ID\"])\n",
    "\n",
    "\n",
    "\n",
    "players = pd.read_csv(\"PlayersToParse.csv\")\n",
    "\n",
    "options = webdriver.ChromeOptions()\n",
    "# options.add_argument(\"--headless\")\n",
    "driver = undetected_chromedriver.Chrome(options= options)\n",
    "nb = 1\n",
    "\n",
    "offset = 3\n",
    "\n",
    "for i in range(nb):\n",
    "    fetchPlayer(players[\"Player ID\"][offset + i],driver)\n",
    "    \n",
    "driver.quit()\n",
    "# driver.quit()\n",
    "# print(frame)\n",
    "# df = pd.concat(frame)\n",
    "# display(df)"
   ]
  }
 ],
 "metadata": {
  "kernelspec": {
   "display_name": "Python 3.10.7 64-bit",
   "language": "python",
   "name": "python3"
  },
  "language_info": {
   "codemirror_mode": {
    "name": "ipython",
    "version": 3
   },
   "file_extension": ".py",
   "mimetype": "text/x-python",
   "name": "python",
   "nbconvert_exporter": "python",
   "pygments_lexer": "ipython3",
   "version": "3.10.7"
  },
  "orig_nbformat": 4,
  "vscode": {
   "interpreter": {
    "hash": "4e2a1615026d654717ba5bbd93439aa7ec89b037cb88e8811475f30cd55665e0"
   }
  }
 },
 "nbformat": 4,
 "nbformat_minor": 2
}
