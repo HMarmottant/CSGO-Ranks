{
 "cells": [
  {
   "cell_type": "code",
   "execution_count": 289,
   "metadata": {},
   "outputs": [],
   "source": [
    "from selenium import webdriver\n",
    "from selenium.webdriver.firefox.options import Options\n",
    "from selenium.webdriver.common.by import By\n",
    "\n",
    "options = Options()\n",
    "# options.headless = True\n",
    "options.add_argument(\"--window-size=1920,1200\")\n",
    "\n",
    "driver = webdriver.Firefox(options=options)\n",
    "\n"
   ]
  },
  {
   "cell_type": "code",
   "execution_count": 290,
   "metadata": {},
   "outputs": [],
   "source": [
    "driver.get(\"https://csgostats.gg/match/79203471\")\n",
    "\n"
   ]
  },
  {
   "cell_type": "code",
   "execution_count": null,
   "metadata": {},
   "outputs": [],
   "source": [
    "driver.find_element(By.ID,'logo').click()"
   ]
  },
  {
   "cell_type": "code",
   "execution_count": 291,
   "metadata": {},
   "outputs": [],
   "source": [
    "\n",
    "players =  driver.find_elements( By.CLASS_NAME, 'player-link')\n",
    "i = 0\n",
    "match = []\n",
    "for player in players:\n",
    "\n",
    "    playerstats = {}\n",
    "\n",
    "    playerstats[\"Player ID\"] = player.get_attribute('href')[-17:-1]\n",
    "\n",
    "    PCard = player.find_element(By.XPATH,\"./..\").find_element(By.XPATH,\"./..\")\n",
    "\n",
    "    rank = PCard.find_elements(By.CLASS_NAME, \"rank\")\n",
    "    if rank.__len__():\n",
    "        playerstats[\"Rank\"] = (rank[0].get_attribute(\"src\"))[-6:-4].strip(\"/\")\n",
    "\n",
    "    rankupicon = PCard.find_elements(By.XPATH, \"./td/div/div/span\")\n",
    "\n",
    "    if(rankupicon.__len__()):\n",
    "        rankup = rankupicon[0].get_attribute(\"class\")\n",
    "        if rankup == \"glyphicon glyphicon-chevron-up\" :\n",
    "            playerstats[\"Rank Gain\"] = 1\n",
    "\n",
    "        elif rankup == \"glyphicon glyphicon-chevron-down\" :\n",
    "            playerstats[\"Rank Gain\"] = -1\n",
    "\n",
    "    else :\n",
    "        playerstats[\"Rank Gain\"] = 0        \n",
    "    \n",
    "    # print(stats[\"rank gain\"])\n",
    "    teamScore = player.find_element(By.XPATH,\"./..\")\n",
    "    teamScore = teamScore.find_element(By.XPATH,\"./..\")\n",
    "    teamScore = teamScore.find_element(By.XPATH,\"./..\")\n",
    "    \n",
    "    #teamScore = teamScore.find_element(By.ID,'match-scoreboard')\n",
    "    #teamScore = teamScore.find_element(By.CLASS_NAME,'scoreboard')\n",
    "    \n",
    "    playerstats[\"Team\"] = teamScore.find_element(By.XPATH, \"./tr/td/div\").get_attribute(\"textContent\").strip() [-1:]\n",
    "\n",
    "    stats = PCard.find_elements(By.TAG_NAME, \"td\")\n",
    "\n",
    "    # for stat in stats:\n",
    "    #     print(stat.get_attribute(\"data-collapse\"),stat.get_attribute(\"textContent\").strip() )\n",
    "    \n",
    "    \n",
    "\n",
    "    playerstats[\"K\"] =                  stats[2].get_attribute(\"textContent\").strip()\n",
    "    playerstats[\"D\"] =                  stats[3].get_attribute(\"textContent\").strip()  \n",
    "    playerstats[\"A\"] =                  stats[4].get_attribute(\"textContent\").strip()  \n",
    "    playerstats[\"+/-\"] =                stats[5].get_attribute(\"textContent\").strip()  \n",
    "    playerstats[\"K/D\"] =                stats[6].get_attribute(\"textContent\").strip()  \n",
    "    playerstats[\"ADR\"] =                stats[7].get_attribute(\"textContent\").strip()  \n",
    "    playerstats[\"HS%\"] =                stats[8].get_attribute(\"textContent\").strip()  \n",
    "    playerstats[\"KAST\"] =               stats[9].get_attribute(\"textContent\").strip()  \n",
    "    playerstats[\"Rating\"] =             stats[10].get_attribute(\"textContent\").strip()  \n",
    "    playerstats[\"EF\"] =                 stats[11].get_attribute(\"textContent\").strip()  \n",
    "    playerstats[\"FA\"] =                 stats[12].get_attribute(\"textContent\").strip()  \n",
    "    playerstats[\"EBT\"] =                stats[13].get_attribute(\"textContent\").strip()  \n",
    "    playerstats[\"UD\"] =                 stats[14].get_attribute(\"textContent\").strip()  \n",
    "    playerstats[\"FKD\"] =                stats[15].get_attribute(\"textContent\").strip()  \n",
    "    playerstats[\"FK\"] =                 stats[16].get_attribute(\"textContent\").strip() \n",
    "    playerstats[\"FD\"] =                 stats[17].get_attribute(\"textContent\").strip() \n",
    "    playerstats[\"FK as T\"] =            stats[18].get_attribute(\"textContent\").strip()  \n",
    "    playerstats[\"FD as T\"] =            stats[19].get_attribute(\"textContent\").strip()  \n",
    "    playerstats[\"FK as CT\"] =           stats[20].get_attribute(\"textContent\").strip()  \n",
    "    playerstats[\"FD as CT\"] =           stats[21].get_attribute(\"textContent\").strip()  \n",
    "    playerstats[\"Trade K\"] =            stats[22].get_attribute(\"textContent\").strip()  \n",
    "    playerstats[\"Trade D\"] =            stats[23].get_attribute(\"textContent\").strip()  \n",
    "    playerstats[\"Trade FK\"] =           stats[24].get_attribute(\"textContent\").strip()  \n",
    "    playerstats[\"Trade FD\"] =           stats[25].get_attribute(\"textContent\").strip()  \n",
    "    playerstats[\"Trade FK as T\"] =      stats[26].get_attribute(\"textContent\").strip()  \n",
    "    playerstats[\"Trade FD as T\"] =      stats[27].get_attribute(\"textContent\").strip()  \n",
    "    playerstats[\"Trade FK as CT\"] =     stats[28].get_attribute(\"textContent\").strip()  \n",
    "    playerstats[\"Trade FD as CT\"] =     stats[29].get_attribute(\"textContent\").strip()  \n",
    "    playerstats[\"1vX\"] =                stats[30].get_attribute(\"textContent\").strip()  \n",
    "    playerstats[\"1v5\"] =                stats[31].get_attribute(\"textContent\").strip()  \n",
    "    playerstats[\"1v4\"] =                stats[32].get_attribute(\"textContent\").strip()  \n",
    "    playerstats[\"1v3\"] =                stats[33].get_attribute(\"textContent\").strip()  \n",
    "    playerstats[\"1v2\"] =                stats[34].get_attribute(\"textContent\").strip()  \n",
    "    playerstats[\"1v1\"] =                stats[35].get_attribute(\"textContent\").strip()  \n",
    "    playerstats[\"3K+\"] =                stats[36].get_attribute(\"textContent\").strip()  \n",
    "    playerstats[\"5K\"] =                 stats[37].get_attribute(\"textContent\").strip()  \n",
    "    playerstats[\"4K\"] =                 stats[38].get_attribute(\"textContent\").strip()  \n",
    "    playerstats[\"3K\"] =                 stats[39].get_attribute(\"textContent\").strip()  \n",
    "    playerstats[\"2K\"] =                 stats[40].get_attribute(\"textContent\").strip()  \n",
    "    playerstats[\"1K\"] =                 stats[41].get_attribute(\"textContent\").strip()  \n",
    " \n",
    "    # print(stats[\"team\"])\n",
    "    match.append(playerstats)\n",
    "    i+=1\n",
    "    \n",
    "\n"
   ]
  },
  {
   "cell_type": "code",
   "execution_count": 292,
   "metadata": {},
   "outputs": [],
   "source": [
    "driver.quit()\n"
   ]
  },
  {
   "cell_type": "code",
   "execution_count": 293,
   "metadata": {},
   "outputs": [
    {
     "name": "stdout",
     "output_type": "stream",
     "text": [
      "          Player ID  Rank Gain Team   K   D  A +/-   K/D    ADR  HS%  ... 1v3  \\\n",
      "0  7656119807157636          0    1  10   9  1   1  1.10     79  50%  ...   0   \n",
      "1  7656119796418314          0    1   9  10  1  -1  0.90   81.5  11%  ...   0   \n",
      "2  7656119805972497         -1    1   8  12  2  -4  0.70   76.2  88%  ...   0   \n",
      "3  7656119811742782          0    1   7  11  6  -4  0.60     67  57%  ...   0   \n",
      "4  7656119903842191          0    1   6  10  1  -4  0.60   53.4  17%  ...   0   \n",
      "5  7656119910744292          0    2  17   7  1  10  2.40  143.5  41%  ...   0   \n",
      "6  7656119814289465          1    2  13  10  4   3  1.30  121.8  77%  ...   0   \n",
      "7  7656119897830692          0    2  10   8  2   2  1.30   68.6  30%  ...   0   \n",
      "8  7656119843877391          0    2   8  10  2  -2  0.80   71.1  63%  ...   0   \n",
      "9  7656119899690031          1    2   4   6  0  -2  0.70   31.3   0%  ...   0   \n",
      "\n",
      "  1v2 1v1 3K+ 5K 4K 3K 2K 1K Rank  \n",
      "0   0   0   0  0  0  0  4  2  NaN  \n",
      "1   0   0   1  0  0  1  1  4  NaN  \n",
      "2   0   0   0  0  0  0  2  4   16  \n",
      "3   0   0   0  0  0  0  2  3   17  \n",
      "4   0   0   0  0  0  0  0  6   13  \n",
      "5   0   0   3  1  1  1  0  5   16  \n",
      "6   0   0   2  0  1  1  2  2   13  \n",
      "7   0   0   1  0  0  1  2  3   17  \n",
      "8   0   0   0  0  0  0  2  4   17  \n",
      "9   0   0   0  0  0  0  0  4   16  \n",
      "\n",
      "[10 rows x 44 columns]\n"
     ]
    }
   ],
   "source": [
    "import pandas as pd\n",
    "df = pd.DataFrame(match)\n",
    "print(df.columns)"
   ]
  },
  {
   "cell_type": "code",
   "execution_count": 294,
   "metadata": {},
   "outputs": [
    {
     "name": "stdout",
     "output_type": "stream",
     "text": [
      "Index(['Player ID', 'Rank Gain', 'Team', 'K', 'D', 'A', '+/-', 'K/D', 'ADR',\n",
      "       'HS%', 'KAST', 'Rating', 'EF', 'FA', 'EBT', 'UD', 'FKD', 'FK', 'FD',\n",
      "       'FK as T', 'FD as T', 'FK as CT', 'FD as CT', 'Trade K', 'Trade D',\n",
      "       'Trade FK', 'Trade FD', 'Trade FK as T', 'Trade FD as T',\n",
      "       'Trade FK as CT', 'Trade FD as CT', '1vX', '1v5', '1v4', '1v3', '1v2',\n",
      "       '1v1', '3K+', '5K', '4K', '3K', '2K', '1K', 'Rank'],\n",
      "      dtype='object')\n"
     ]
    }
   ],
   "source": [
    "print(df.columns)"
   ]
  }
 ],
 "metadata": {
  "kernelspec": {
   "display_name": "Python 3.10.0 64-bit",
   "language": "python",
   "name": "python3"
  },
  "language_info": {
   "codemirror_mode": {
    "name": "ipython",
    "version": 3
   },
   "file_extension": ".py",
   "mimetype": "text/x-python",
   "name": "python",
   "nbconvert_exporter": "python",
   "pygments_lexer": "ipython3",
   "version": "3.10.0"
  },
  "orig_nbformat": 4,
  "vscode": {
   "interpreter": {
    "hash": "0069d39d3f5bc61499d95c35798b6162c79b5e73201dfa0ac4c3fa1e1b366fbb"
   }
  }
 },
 "nbformat": 4,
 "nbformat_minor": 2
}
