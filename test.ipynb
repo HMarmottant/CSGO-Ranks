{
 "cells": [
  {
   "cell_type": "code",
   "execution_count": 238,
   "metadata": {},
   "outputs": [],
   "source": [
    "from selenium import webdriver\n",
    "from selenium.webdriver.firefox.options import Options\n",
    "from selenium.webdriver.common.by import By\n",
    "\n",
    "options = Options()\n",
    "# options.headless = True\n",
    "options.add_argument(\"--window-size=1920,1200\")\n",
    "\n",
    "driver = webdriver.Firefox(options=options)\n",
    "\n"
   ]
  },
  {
   "cell_type": "code",
   "execution_count": 239,
   "metadata": {},
   "outputs": [],
   "source": [
    "driver.get(\"https://csgostats.gg/match/79190658\")\n",
    "\n"
   ]
  },
  {
   "cell_type": "code",
   "execution_count": 240,
   "metadata": {},
   "outputs": [],
   "source": [
    "# el=driver.find_element(By.XPATH,\"//div/div/div/div/div[2]/div/div[2]/div/div/div[2]/div/button[1]\")\n",
    "\n",
    "# action = webdriver.common.action_chains.ActionChains(driver)\n",
    "# action.move_to_element_with_offset(el, 5, 5)\n",
    "# action.click()\n",
    "# action.perform()"
   ]
  },
  {
   "cell_type": "code",
   "execution_count": 241,
   "metadata": {},
   "outputs": [],
   "source": [
    "\n",
    "players =  driver.find_elements( By.CLASS_NAME, 'player-link')\n",
    "i = 0\n",
    "match = []\n",
    "\n",
    "for player in players:\n",
    "\n",
    "    playerstats = {}\n",
    "\n",
    "    playerstats[\"Player ID\"] = player.get_attribute('href')[-17:-1]\n",
    "\n",
    "    PCard = player.find_element(By.XPATH,\"./..\").find_element(By.XPATH,\"./..\")\n",
    "\n",
    "    playerstats[\"Rank\"] = (PCard.find_element(By.CLASS_NAME, \"rank\").get_attribute(\"src\"))[-6:-4]\n",
    "\n",
    "    rankupicon = PCard.find_elements(By.XPATH, \"./td/div/div/span\")\n",
    "\n",
    "    if(rankupicon.__len__()):\n",
    "        playerstats[\"Rank Gain\"] = rankupicon[0].get_attribute(\"class\")\n",
    "    \n",
    "    # print(stats[\"rank gain\"])\n",
    "    teamScore = player.find_element(By.XPATH,\"./..\")\n",
    "    teamScore = teamScore.find_element(By.XPATH,\"./..\")\n",
    "    teamScore = teamScore.find_element(By.XPATH,\"./..\")\n",
    "    \n",
    "    #teamScore = teamScore.find_element(By.ID,'match-scoreboard')\n",
    "    #teamScore = teamScore.find_element(By.CLASS_NAME,'scoreboard')\n",
    "    \n",
    "    playerstats[\"Team\"] = teamScore.find_element(By.XPATH, \"./tr/td/div\").get_attribute(\"textContent\") [-1:]\n",
    "\n",
    "    stats = PCard.find_elements(By.TAG_NAME, \"td\")\n",
    "\n",
    "    # for stat in stats:\n",
    "    #     print(stat.get_attribute(\"data-collapse\"),stat.get_attribute(\"textContent\").strip() )\n",
    "    \n",
    "    \n",
    "\n",
    "    playerstats[\"K\"] =                  stats[2].get_attribute(\"textContent\").strip()\n",
    "    playerstats[\"D\"] =                  stats[3].get_attribute(\"textContent\").strip()  \n",
    "    playerstats[\"A\"] =                  stats[4].get_attribute(\"textContent\").strip()  \n",
    "    playerstats[\"+/-\"] =                stats[5].get_attribute(\"textContent\").strip()  \n",
    "    playerstats[\"K/D\"] =                stats[6].get_attribute(\"textContent\").strip()  \n",
    "    playerstats[\"ADR\"] =                stats[7].get_attribute(\"textContent\").strip()  \n",
    "    playerstats[\"HS%\"] =                stats[8].get_attribute(\"textContent\").strip()  \n",
    "    playerstats[\"KAST\"] =               stats[9].get_attribute(\"textContent\").strip()  \n",
    "    playerstats[\"Rating\"] =             stats[10].get_attribute(\"textContent\").strip()  \n",
    "    playerstats[\"EF\"] =                 stats[11].get_attribute(\"textContent\").strip()  \n",
    "    playerstats[\"FA\"] =                 stats[12].get_attribute(\"textContent\").strip()  \n",
    "    playerstats[\"EBT\"] =                stats[13].get_attribute(\"textContent\").strip()  \n",
    "    playerstats[\"UD\"] =                 stats[14].get_attribute(\"textContent\").strip()  \n",
    "    playerstats[\"FKD\"] =                stats[15].get_attribute(\"textContent\").strip()  \n",
    "    playerstats[\"FK\"] =                 stats[16].get_attribute(\"textContent\").strip() \n",
    "    playerstats[\"FD\"] =                 stats[17].get_attribute(\"textContent\").strip() \n",
    "    playerstats[\"FK as T\"] =            stats[18].get_attribute(\"textContent\").strip()  \n",
    "    playerstats[\"FD as T\"] =            stats[19].get_attribute(\"textContent\").strip()  \n",
    "    playerstats[\"FK as CT\"] =           stats[20].get_attribute(\"textContent\").strip()  \n",
    "    playerstats[\"FD as CT\"] =           stats[21].get_attribute(\"textContent\").strip()  \n",
    "    playerstats[\"Trade K\"] =            stats[22].get_attribute(\"textContent\").strip()  \n",
    "    playerstats[\"Trade D\"] =            stats[23].get_attribute(\"textContent\").strip()  \n",
    "    playerstats[\"Trade FK\"] =           stats[24].get_attribute(\"textContent\").strip()  \n",
    "    playerstats[\"Trade FD\"] =           stats[25].get_attribute(\"textContent\").strip()  \n",
    "    playerstats[\"Trade FK as T\"] =      stats[26].get_attribute(\"textContent\").strip()  \n",
    "    playerstats[\"Trade FD as T\"] =      stats[27].get_attribute(\"textContent\").strip()  \n",
    "    playerstats[\"Trade FK as CT\"] =     stats[28].get_attribute(\"textContent\").strip()  \n",
    "    playerstats[\"Trade FD as CT\"] =     stats[29].get_attribute(\"textContent\").strip()  \n",
    "    playerstats[\"1vX\"] =                stats[30].get_attribute(\"textContent\").strip()  \n",
    "    playerstats[\"1v5\"] =                stats[31].get_attribute(\"textContent\").strip()  \n",
    "    playerstats[\"1v4\"] =                stats[32].get_attribute(\"textContent\").strip()  \n",
    "    playerstats[\"1v3\"] =                stats[33].get_attribute(\"textContent\").strip()  \n",
    "    playerstats[\"1v2\"] =                stats[34].get_attribute(\"textContent\").strip()  \n",
    "    playerstats[\"1v1\"] =                stats[35].get_attribute(\"textContent\").strip()  \n",
    "    playerstats[\"3K+\"] =                stats[36].get_attribute(\"textContent\").strip()  \n",
    "    playerstats[\"5K\"] =                stats[37].get_attribute(\"textContent\").strip()  \n",
    "    playerstats[\"4K\"] =                stats[38].get_attribute(\"textContent\").strip()  \n",
    "    playerstats[\"3K\"] =                stats[39].get_attribute(\"textContent\").strip()  \n",
    "    playerstats[\"2K\"] =                stats[40].get_attribute(\"textContent\").strip()  \n",
    "    playerstats[\"1K\"] =                stats[41].get_attribute(\"textContent\").strip()  \n",
    " \n",
    "    # print(stats[\"team\"])\n",
    "    match.append(playerstats)\n",
    "    i+=1\n",
    "    \n",
    "\n"
   ]
  },
  {
   "cell_type": "code",
   "execution_count": 242,
   "metadata": {},
   "outputs": [],
   "source": [
    "driver.quit()\n"
   ]
  },
  {
   "cell_type": "code",
   "execution_count": 243,
   "metadata": {},
   "outputs": [
    {
     "name": "stdout",
     "output_type": "stream",
     "text": [
      "[{'Player ID': '7656119830857748', 'Rank': '14', 'Team': ' ', 'K': '5', 'D': '3', 'A': '2', '+/-': '2', 'K/D': '1.70', 'ADR': '118.2', 'HS%': '60%', 'KAST': '83.3%', 'Rating': '1.55', 'EF': '1', 'FA': '0', 'EBT': '1s', 'UD': '0', 'FKD': '0', 'FK': '1', 'FD': '1', 'FK as T': '1', 'FD as T': '1', 'FK as CT': '0', 'FD as CT': '0', 'Trade K': '1', 'Trade D': '0', 'Trade FK': '1', 'Trade FD': '0', 'Trade FK as T': '1', 'Trade FD as T': '0', 'Trade FK as CT': '0', 'Trade FD as CT': '0', '1vX': '0', '1v5': '0', '1v4': '0', '1v3': '0', '1v2': '0', '1v1': '0', '3K+': '0', '5K': '0', '4K': '0', '3K': '0', '2K': '1', '1K': '3'}, {'Player ID': '7656119817073608', 'Rank': '14', 'Team': ' ', 'K': '4', 'D': '3', 'A': '0', '+/-': '1', 'K/D': '1.30', 'ADR': '81', 'HS%': '50%', 'KAST': '66.7%', 'Rating': '1.12', 'EF': '1', 'FA': '0', 'EBT': '1.6s', 'UD': '0', 'FKD': '0', 'FK': '0', 'FD': '0', 'FK as T': '0', 'FD as T': '0', 'FK as CT': '0', 'FD as CT': '0', 'Trade K': '1', 'Trade D': '0', 'Trade FK': '0', 'Trade FD': '0', 'Trade FK as T': '0', 'Trade FD as T': '0', 'Trade FK as CT': '0', 'Trade FD as CT': '0', '1vX': '0', '1v5': '0', '1v4': '0', '1v3': '0', '1v2': '0', '1v1': '0', '3K+': '0', '5K': '0', '4K': '0', '3K': '0', '2K': '1', '1K': '2'}, {'Player ID': '7656119904452876', 'Rank': '11', 'Team': ' ', 'K': '4', 'D': '3', 'A': '0', '+/-': '1', 'K/D': '1.30', 'ADR': '44.7', 'HS%': '75%', 'KAST': '83.3%', 'Rating': '1.13', 'EF': '1', 'FA': '0', 'EBT': '0.6s', 'UD': '0', 'FKD': '0', 'FK': '0', 'FD': '0', 'FK as T': '0', 'FD as T': '0', 'FK as CT': '0', 'FD as CT': '0', 'Trade K': '0', 'Trade D': '0', 'Trade FK': '0', 'Trade FD': '0', 'Trade FK as T': '0', 'Trade FD as T': '0', 'Trade FK as CT': '0', 'Trade FD as CT': '0', '1vX': '0', '1v5': '0', '1v4': '0', '1v3': '0', '1v2': '0', '1v1': '0', '3K+': '0', '5K': '0', '4K': '0', '3K': '0', '2K': '0', '1K': '4'}, {'Player ID': '7656119829708711', 'Rank': '15', 'Rank Gain': 'glyphicon glyphicon-chevron-up', 'Team': ' ', 'K': '3', 'D': '3', 'A': '1', '+/-': '0', 'K/D': '1.00', 'ADR': '51.7', 'HS%': '0%', 'KAST': '83.3%', 'Rating': '1.03', 'EF': '5', 'FA': '0', 'EBT': '15.7s', 'UD': '30', 'FKD': '1', 'FK': '1', 'FD': '0', 'FK as T': '1', 'FD as T': '0', 'FK as CT': '0', 'FD as CT': '0', 'Trade K': '0', 'Trade D': '1', 'Trade FK': '0', 'Trade FD': '0', 'Trade FK as T': '0', 'Trade FD as T': '0', 'Trade FK as CT': '0', 'Trade FD as CT': '0', '1vX': '0', '1v5': '0', '1v4': '0', '1v3': '0', '1v2': '0', '1v1': '0', '3K+': '0', '5K': '0', '4K': '0', '3K': '0', '2K': '1', '1K': '1'}, {'Player ID': '7656119831532989', 'Rank': '15', 'Team': ' ', 'K': '2', 'D': '4', 'A': '0', '+/-': '-2', 'K/D': '0.50', 'ADR': '47.5', 'HS%': '0%', 'KAST': '66.7%', 'Rating': '0.64', 'EF': '4', 'FA': '0', 'EBT': '13.4s', 'UD': '31', 'FKD': '0', 'FK': '1', 'FD': '1', 'FK as T': '1', 'FD as T': '1', 'FK as CT': '0', 'FD as CT': '0', 'Trade K': '0', 'Trade D': '1', 'Trade FK': '0', 'Trade FD': '1', 'Trade FK as T': '0', 'Trade FD as T': '1', 'Trade FK as CT': '0', 'Trade FD as CT': '0', '1vX': '0', '1v5': '0', '1v4': '0', '1v3': '0', '1v2': '0', '1v1': '0', '3K+': '0', '5K': '0', '4K': '0', '3K': '0', '2K': '0', '1K': '2'}, {'Player ID': '7656119901253678', 'Rank': '13', 'Team': ' ', 'K': '8', 'D': '3', 'A': '0', '+/-': '5', 'K/D': '2.70', 'ADR': '114.8', 'HS%': '0%', 'KAST': '66.7%', 'Rating': '1.81', 'EF': '3', 'FA': '0', 'EBT': '4.8s', 'UD': '8', 'FKD': '1', 'FK': '1', 'FD': '0', 'FK as T': '0', 'FD as T': '0', 'FK as CT': '1', 'FD as CT': '0', 'Trade K': '1', 'Trade D': '0', 'Trade FK': '0', 'Trade FD': '0', 'Trade FK as T': '0', 'Trade FD as T': '0', 'Trade FK as CT': '0', 'Trade FD as CT': '0', '1vX': '0', '1v5': '0', '1v4': '0', '1v3': '0', '1v2': '0', '1v1': '0', '3K+': '1', '5K': '0', '4K': '0', '3K': '1', '2K': '2', '1K': '1'}, {'Player ID': '7656119884737780', 'Rank': '14', 'Team': ' ', 'K': '3', 'D': '2', 'A': '1', '+/-': '1', 'K/D': '1.50', 'ADR': '56.7', 'HS%': '67%', 'KAST': '83.3%', 'Rating': '1.13', 'EF': '5', 'FA': '0', 'EBT': '12.7s', 'UD': '0', 'FKD': '-1', 'FK': '0', 'FD': '1', 'FK as T': '0', 'FD as T': '0', 'FK as CT': '0', 'FD as CT': '1', 'Trade K': '0', 'Trade D': '0', 'Trade FK': '0', 'Trade FD': '0', 'Trade FK as T': '0', 'Trade FD as T': '0', 'Trade FK as CT': '0', 'Trade FD as CT': '0', '1vX': '1', '1v5': '0', '1v4': '0', '1v3': '0', '1v2': '1', '1v1': '0', '3K+': '0', '5K': '0', '4K': '0', '3K': '0', '2K': '1', '1K': '1'}, {'Player ID': '7656119887188254', 'Rank': '12', 'Team': ' ', 'K': '3', 'D': '4', 'A': '0', '+/-': '-1', 'K/D': '0.80', 'ADR': '45.2', 'HS%': '33%', 'KAST': '50%', 'Rating': '0.65', 'EF': '2', 'FA': '0', 'EBT': '5.2s', 'UD': '0', 'FKD': '0', 'FK': '1', 'FD': '1', 'FK as T': '0', 'FD as T': '0', 'FK as CT': '1', 'FD as CT': '1', 'Trade K': '0', 'Trade D': '0', 'Trade FK': '0', 'Trade FD': '0', 'Trade FK as T': '0', 'Trade FD as T': '0', 'Trade FK as CT': '0', 'Trade FD as CT': '0', '1vX': '0', '1v5': '0', '1v4': '0', '1v3': '0', '1v2': '0', '1v1': '0', '3K+': '0', '5K': '0', '4K': '0', '3K': '0', '2K': '1', '1K': '1'}, {'Player ID': '7656119800194486', 'Rank': '/9', 'Team': ' ', 'K': '1', 'D': '4', 'A': '3', '+/-': '-3', 'K/D': '0.30', 'ADR': '74.5', 'HS%': '0%', 'KAST': '66.7%', 'Rating': '0.63', 'EF': '0', 'FA': '0', 'EBT': '0s', 'UD': '116', 'FKD': '-1', 'FK': '0', 'FD': '1', 'FK as T': '0', 'FD as T': '0', 'FK as CT': '0', 'FD as CT': '1', 'Trade K': '0', 'Trade D': '0', 'Trade FK': '0', 'Trade FD': '0', 'Trade FK as T': '0', 'Trade FD as T': '0', 'Trade FK as CT': '0', 'Trade FD as CT': '0', '1vX': '0', '1v5': '0', '1v4': '0', '1v3': '0', '1v2': '0', '1v1': '0', '3K+': '0', '5K': '0', '4K': '0', '3K': '0', '2K': '0', '1K': '1'}, {'Player ID': '7656119797940558', 'Rank': '13', 'Team': ' ', 'K': '0', 'D': '5', 'A': '1', '+/-': '-5', 'K/D': '0.00', 'ADR': '35.3', 'HS%': '0%', 'KAST': '16.7%', 'Rating': '-0.13', 'EF': '2', 'FA': '0', 'EBT': '6.1s', 'UD': '3', 'FKD': '0', 'FK': '0', 'FD': '0', 'FK as T': '0', 'FD as T': '0', 'FK as CT': '0', 'FD as CT': '0', 'Trade K': '0', 'Trade D': '1', 'Trade FK': '0', 'Trade FD': '0', 'Trade FK as T': '0', 'Trade FD as T': '0', 'Trade FK as CT': '0', 'Trade FD as CT': '0', '1vX': '0', '1v5': '0', '1v4': '0', '1v3': '0', '1v2': '0', '1v1': '0', '3K+': '0', '5K': '0', '4K': '0', '3K': '0', '2K': '0', '1K': '0'}]\n"
     ]
    }
   ],
   "source": [
    "print(match)"
   ]
  }
 ],
 "metadata": {
  "kernelspec": {
   "display_name": "Python 3.10.0 64-bit",
   "language": "python",
   "name": "python3"
  },
  "language_info": {
   "codemirror_mode": {
    "name": "ipython",
    "version": 3
   },
   "file_extension": ".py",
   "mimetype": "text/x-python",
   "name": "python",
   "nbconvert_exporter": "python",
   "pygments_lexer": "ipython3",
   "version": "3.10.0"
  },
  "orig_nbformat": 4,
  "vscode": {
   "interpreter": {
    "hash": "0069d39d3f5bc61499d95c35798b6162c79b5e73201dfa0ac4c3fa1e1b366fbb"
   }
  }
 },
 "nbformat": 4,
 "nbformat_minor": 2
}
