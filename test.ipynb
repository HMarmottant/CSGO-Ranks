{
 "cells": [
  {
   "cell_type": "code",
   "execution_count": 121,
   "metadata": {},
   "outputs": [],
   "source": [
    "from selenium import webdriver\n",
    "from selenium.webdriver.firefox.options import Options\n",
    "from selenium.webdriver.common.by import By\n",
    "\n",
    "options = Options()\n",
    "options.headless = True\n",
    "options.add_argument(\"--window-size=1920,1200\")\n",
    "\n",
    "driver = webdriver.Firefox(options=options)\n",
    "\n"
   ]
  },
  {
   "cell_type": "code",
   "execution_count": 122,
   "metadata": {},
   "outputs": [],
   "source": [
    "driver.get(\"https://csgostats.gg/match/79190658\")\n",
    "# accept_button = driver.find_element( By.CLASS_NAME, 'sc-gsDKAQ MsFxa')\n",
    "# accept_button.screenshot(\"screen.png\")\n"
   ]
  },
  {
   "cell_type": "code",
   "execution_count": 123,
   "metadata": {},
   "outputs": [
    {
     "ename": "TypeError",
     "evalue": "'NoneType' object is not subscriptable",
     "output_type": "error",
     "traceback": [
      "\u001b[1;31m---------------------------------------------------------------------------\u001b[0m",
      "\u001b[1;31mTypeError\u001b[0m                                 Traceback (most recent call last)",
      "Cell \u001b[1;32mIn [123], line 10\u001b[0m\n\u001b[0;32m      6\u001b[0m PCard \u001b[38;5;241m=\u001b[39m player\u001b[38;5;241m.\u001b[39mfind_element(By\u001b[38;5;241m.\u001b[39mXPATH,\u001b[38;5;124m\"\u001b[39m\u001b[38;5;124m./..\u001b[39m\u001b[38;5;124m\"\u001b[39m)\u001b[38;5;241m.\u001b[39mfind_element(By\u001b[38;5;241m.\u001b[39mXPATH,\u001b[38;5;124m\"\u001b[39m\u001b[38;5;124m./..\u001b[39m\u001b[38;5;124m\"\u001b[39m)\n\u001b[0;32m      8\u001b[0m playerstats \u001b[38;5;241m=\u001b[39m {}\n\u001b[1;32m---> 10\u001b[0m playerstats[\u001b[38;5;124m\"\u001b[39m\u001b[38;5;124mPlayer ID\u001b[39m\u001b[38;5;124m\"\u001b[39m] \u001b[38;5;241m=\u001b[39m \u001b[43mPCard\u001b[49m\u001b[38;5;241;43m.\u001b[39;49m\u001b[43mget_attribute\u001b[49m\u001b[43m(\u001b[49m\u001b[38;5;124;43m'\u001b[39;49m\u001b[38;5;124;43mhref\u001b[39;49m\u001b[38;5;124;43m'\u001b[39;49m\u001b[43m)\u001b[49m\u001b[43m[\u001b[49m\u001b[38;5;241;43m-\u001b[39;49m\u001b[38;5;241;43m17\u001b[39;49m\u001b[43m:\u001b[49m\u001b[38;5;241;43m-\u001b[39;49m\u001b[38;5;241;43m1\u001b[39;49m\u001b[43m]\u001b[49m\n\u001b[0;32m     12\u001b[0m playerstats[\u001b[38;5;124m\"\u001b[39m\u001b[38;5;124mRank\u001b[39m\u001b[38;5;124m\"\u001b[39m] \u001b[38;5;241m=\u001b[39m (PCard\u001b[38;5;241m.\u001b[39mfind_element(By\u001b[38;5;241m.\u001b[39mCLASS_NAME, \u001b[38;5;124m\"\u001b[39m\u001b[38;5;124mrank\u001b[39m\u001b[38;5;124m\"\u001b[39m)\u001b[38;5;241m.\u001b[39mget_attribute(\u001b[38;5;124m\"\u001b[39m\u001b[38;5;124msrc\u001b[39m\u001b[38;5;124m\"\u001b[39m))[\u001b[38;5;241m-\u001b[39m\u001b[38;5;241m6\u001b[39m:\u001b[38;5;241m-\u001b[39m\u001b[38;5;241m4\u001b[39m]\n\u001b[0;32m     14\u001b[0m rankupicon \u001b[38;5;241m=\u001b[39m PCard\u001b[38;5;241m.\u001b[39mfind_elements(By\u001b[38;5;241m.\u001b[39mXPATH, \u001b[38;5;124m\"\u001b[39m\u001b[38;5;124m./td/div/div/span\u001b[39m\u001b[38;5;124m\"\u001b[39m)\n",
      "\u001b[1;31mTypeError\u001b[0m: 'NoneType' object is not subscriptable"
     ]
    }
   ],
   "source": [
    "\n",
    "players =  driver.find_elements( By.CLASS_NAME, 'player-link')\n",
    "i = 0\n",
    "match = []\n",
    "\n",
    "for player in players:\n",
    "\n",
    "    playerstats = {}\n",
    "\n",
    "    playerstats[\"Player ID\"] = player.get_attribute('href')[-17:-1]\n",
    "    \n",
    "    PCard = player.find_element(By.XPATH,\"./..\").find_element(By.XPATH,\"./..\")\n",
    "\n",
    "    playerstats[\"Rank\"] = (PCard.find_element(By.CLASS_NAME, \"rank\").get_attribute(\"src\"))[-6:-4]\n",
    "\n",
    "    rankupicon = PCard.find_elements(By.XPATH, \"./td/div/div/span\")\n",
    "\n",
    "    if(rankupicon.__len__()):\n",
    "        playerstats[\"Rank Gain\"] = rankupicon[0].get_attribute(\"class\")\n",
    "    \n",
    "    # print(stats[\"rank gain\"])\n",
    "    teamScore = player.find_element(By.XPATH,\"./..\")\n",
    "    teamScore = teamScore.find_element(By.XPATH,\"./..\")\n",
    "    teamScore = teamScore.find_element(By.XPATH,\"./..\")\n",
    "    \n",
    "    #teamScore = teamScore.find_element(By.ID,'match-scoreboard')\n",
    "    #teamScore = teamScore.find_element(By.CLASS_NAME,'scoreboard')\n",
    "    \n",
    "    playerstats[\"Team\"] = teamScore.find_element(By.XPATH, \"./tr/td/div\").text[-1:]\n",
    "\n",
    "    stats = PCard.find_elements(By.TAG_NAME, \"td\")\n",
    "\n",
    "    # for stat in stats:\n",
    "    #     print(stat.text)\n",
    "\n",
    "    playerstats[\"K\"] =                  stats[2].text\n",
    "    playerstats[\"D\"] =                  stats[3].text\n",
    "    playerstats[\"A\"] =                  stats[4].text\n",
    "    playerstats[\"+/-\"] =                stats[5].text\n",
    "    playerstats[\"K/D\"] =                stats[6].text\n",
    "    playerstats[\"ADR\"] =                stats[7].text\n",
    "    playerstats[\"HS%\"] =                stats[8].text\n",
    "    playerstats[\"KAST\"] =               stats[9].text\n",
    "    playerstats[\"Rating\"] =             stats[10].text\n",
    "    playerstats[\"EF\"] =                 stats[11].text\n",
    "    playerstats[\"FA\"] =                 stats[12].text\n",
    "    # playerstats[\"EBT\"] =                stats[13].text\n",
    "    # playerstats[\"UD\"] =                 stats[14].text\n",
    "    # playerstats[\"FK\"] =                 stats[15].text\n",
    "    playerstats[\"FD\"] =                 stats[16].text\n",
    "    # playerstats[\"FK as T\"] =            stats[17].text\n",
    "    # playerstats[\"FD as T\"] =            stats[18].text\n",
    "    # playerstats[\"FK as CT\"] =           stats[19].text\n",
    "    # playerstats[\"FD as CT\"] =           stats[20].text\n",
    "    # playerstats[\"Trade K\"] =            stats[21].text\n",
    "    # playerstats[\"Trade D\"] =            stats[22].text\n",
    "    # playerstats[\"Trade FK\"] =           stats[23].text\n",
    "    playerstats[\"FKD\"] =                stats[23].text\n",
    "    # playerstats[\"Trade FD\"] =           stats[24].text\n",
    "    # playerstats[\"Trade FK as T\"] =      stats[25].text\n",
    "    # playerstats[\"Trade FD as T\"] =      stats[26].text\n",
    "    # playerstats[\"Trade FK as CT\"] =     stats[27].text\n",
    "    # playerstats[\"Trade FD as CT\"] =     stats[28].text\n",
    "    playerstats[\"1vX\"] =                stats[31].text\n",
    "    playerstats[\"3K+\"] =                stats[37].text\n",
    " \n",
    "    # print(stats[\"team\"])\n",
    "    match.append(playerstats)\n",
    "    i+=1\n",
    "    \n",
    "print(match)\n",
    "\n"
   ]
  },
  {
   "cell_type": "code",
   "execution_count": null,
   "metadata": {},
   "outputs": [],
   "source": [
    "driver.quit()"
   ]
  },
  {
   "cell_type": "code",
   "execution_count": null,
   "metadata": {},
   "outputs": [],
   "source": [
    "# for play in match:\n",
    "#     print(play[\"FA\"])"
   ]
  }
 ],
 "metadata": {
  "kernelspec": {
   "display_name": "Python 3.10.0 64-bit",
   "language": "python",
   "name": "python3"
  },
  "language_info": {
   "codemirror_mode": {
    "name": "ipython",
    "version": 3
   },
   "file_extension": ".py",
   "mimetype": "text/x-python",
   "name": "python",
   "nbconvert_exporter": "python",
   "pygments_lexer": "ipython3",
   "version": "3.10.0"
  },
  "orig_nbformat": 4,
  "vscode": {
   "interpreter": {
    "hash": "0069d39d3f5bc61499d95c35798b6162c79b5e73201dfa0ac4c3fa1e1b366fbb"
   }
  }
 },
 "nbformat": 4,
 "nbformat_minor": 2
}
