{
 "cells": [
  {
   "cell_type": "code",
   "execution_count": 52,
   "metadata": {},
   "outputs": [
    {
     "ename": "SessionNotCreatedException",
     "evalue": "Message: session not created: This version of ChromeDriver only supports Chrome version 106\nCurrent browser version is 105.0.5195.127 with binary path C:\\Program Files\\Google\\Chrome\\Application\\chrome.exe\nStacktrace:\nBacktrace:\n\tOrdinal0 [0x00731353+2233171]\n\tOrdinal0 [0x006C8E31+1805873]\n\tOrdinal0 [0x005D66FD+812797]\n\tOrdinal0 [0x005F8C6D+953453]\n\tOrdinal0 [0x005F4200+934400]\n\tOrdinal0 [0x005F19C9+924105]\n\tOrdinal0 [0x0062806C+1146988]\n\tOrdinal0 [0x00627A6A+1145450]\n\tOrdinal0 [0x006218A6+1120422]\n\tOrdinal0 [0x005FA73D+960317]\n\tOrdinal0 [0x005FB71F+964383]\n\tGetHandleVerifier [0x009DA2C2+2728322]\n\tGetHandleVerifier [0x009CC184+2670660]\n\tGetHandleVerifier [0x007C102A+528106]\n\tGetHandleVerifier [0x007BFE10+523472]\n\tOrdinal0 [0x006D028C+1835660]\n\tOrdinal0 [0x006D4758+1853272]\n\tOrdinal0 [0x006D4845+1853509]\n\tOrdinal0 [0x006DE7E4+1894372]\n\tBaseThreadInitThunk [0x77C7FA29+25]\n\tRtlGetAppContainerNamedObjectPath [0x77DC7B5E+286]\n\tRtlGetAppContainerNamedObjectPath [0x77DC7B2E+238]\n",
     "output_type": "error",
     "traceback": [
      "\u001b[1;31m---------------------------------------------------------------------------\u001b[0m",
      "\u001b[1;31mSessionNotCreatedException\u001b[0m                Traceback (most recent call last)",
      "Cell \u001b[1;32mIn [52], line 8\u001b[0m\n\u001b[0;32m      5\u001b[0m \u001b[38;5;66;03m# options.headless = True\u001b[39;00m\n\u001b[0;32m      6\u001b[0m options\u001b[38;5;241m.\u001b[39madd_argument(\u001b[38;5;124m\"\u001b[39m\u001b[38;5;124m--window-size=1920,1200\u001b[39m\u001b[38;5;124m\"\u001b[39m)\n\u001b[1;32m----> 8\u001b[0m driver \u001b[38;5;241m=\u001b[39m \u001b[43mwebdriver\u001b[49m\u001b[38;5;241;43m.\u001b[39;49m\u001b[43mChrome\u001b[49m\u001b[43m(\u001b[49m\u001b[43moptions\u001b[49m\u001b[38;5;241;43m=\u001b[39;49m\u001b[43moptions\u001b[49m\u001b[43m)\u001b[49m\n",
      "File \u001b[1;32mc:\\Users\\Howne\\AppData\\Local\\Programs\\Python\\Python310\\lib\\site-packages\\selenium\\webdriver\\chrome\\webdriver.py:69\u001b[0m, in \u001b[0;36mWebDriver.__init__\u001b[1;34m(self, executable_path, port, options, service_args, desired_capabilities, service_log_path, chrome_options, service, keep_alive)\u001b[0m\n\u001b[0;32m     66\u001b[0m \u001b[39mif\u001b[39;00m \u001b[39mnot\u001b[39;00m service:\n\u001b[0;32m     67\u001b[0m     service \u001b[39m=\u001b[39m Service(executable_path, port, service_args, service_log_path)\n\u001b[1;32m---> 69\u001b[0m \u001b[39msuper\u001b[39;49m()\u001b[39m.\u001b[39;49m\u001b[39m__init__\u001b[39;49m(DesiredCapabilities\u001b[39m.\u001b[39;49mCHROME[\u001b[39m'\u001b[39;49m\u001b[39mbrowserName\u001b[39;49m\u001b[39m'\u001b[39;49m], \u001b[39m\"\u001b[39;49m\u001b[39mgoog\u001b[39;49m\u001b[39m\"\u001b[39;49m,\n\u001b[0;32m     70\u001b[0m                  port, options,\n\u001b[0;32m     71\u001b[0m                  service_args, desired_capabilities,\n\u001b[0;32m     72\u001b[0m                  service_log_path, service, keep_alive)\n",
      "File \u001b[1;32mc:\\Users\\Howne\\AppData\\Local\\Programs\\Python\\Python310\\lib\\site-packages\\selenium\\webdriver\\chromium\\webdriver.py:92\u001b[0m, in \u001b[0;36mChromiumDriver.__init__\u001b[1;34m(self, browser_name, vendor_prefix, port, options, service_args, desired_capabilities, service_log_path, service, keep_alive)\u001b[0m\n\u001b[0;32m     89\u001b[0m \u001b[39mself\u001b[39m\u001b[39m.\u001b[39mservice\u001b[39m.\u001b[39mstart()\n\u001b[0;32m     91\u001b[0m \u001b[39mtry\u001b[39;00m:\n\u001b[1;32m---> 92\u001b[0m     \u001b[39msuper\u001b[39;49m()\u001b[39m.\u001b[39;49m\u001b[39m__init__\u001b[39;49m(\n\u001b[0;32m     93\u001b[0m         command_executor\u001b[39m=\u001b[39;49mChromiumRemoteConnection(\n\u001b[0;32m     94\u001b[0m             remote_server_addr\u001b[39m=\u001b[39;49m\u001b[39mself\u001b[39;49m\u001b[39m.\u001b[39;49mservice\u001b[39m.\u001b[39;49mservice_url,\n\u001b[0;32m     95\u001b[0m             browser_name\u001b[39m=\u001b[39;49mbrowser_name, vendor_prefix\u001b[39m=\u001b[39;49mvendor_prefix,\n\u001b[0;32m     96\u001b[0m             keep_alive\u001b[39m=\u001b[39;49mkeep_alive, ignore_proxy\u001b[39m=\u001b[39;49m_ignore_proxy),\n\u001b[0;32m     97\u001b[0m         options\u001b[39m=\u001b[39;49moptions)\n\u001b[0;32m     98\u001b[0m \u001b[39mexcept\u001b[39;00m \u001b[39mException\u001b[39;00m:\n\u001b[0;32m     99\u001b[0m     \u001b[39mself\u001b[39m\u001b[39m.\u001b[39mquit()\n",
      "File \u001b[1;32mc:\\Users\\Howne\\AppData\\Local\\Programs\\Python\\Python310\\lib\\site-packages\\selenium\\webdriver\\remote\\webdriver.py:270\u001b[0m, in \u001b[0;36mWebDriver.__init__\u001b[1;34m(self, command_executor, desired_capabilities, browser_profile, proxy, keep_alive, file_detector, options)\u001b[0m\n\u001b[0;32m    268\u001b[0m \u001b[39mself\u001b[39m\u001b[39m.\u001b[39m_authenticator_id \u001b[39m=\u001b[39m \u001b[39mNone\u001b[39;00m\n\u001b[0;32m    269\u001b[0m \u001b[39mself\u001b[39m\u001b[39m.\u001b[39mstart_client()\n\u001b[1;32m--> 270\u001b[0m \u001b[39mself\u001b[39;49m\u001b[39m.\u001b[39;49mstart_session(capabilities, browser_profile)\n",
      "File \u001b[1;32mc:\\Users\\Howne\\AppData\\Local\\Programs\\Python\\Python310\\lib\\site-packages\\selenium\\webdriver\\remote\\webdriver.py:363\u001b[0m, in \u001b[0;36mWebDriver.start_session\u001b[1;34m(self, capabilities, browser_profile)\u001b[0m\n\u001b[0;32m    361\u001b[0m w3c_caps \u001b[39m=\u001b[39m _make_w3c_caps(capabilities)\n\u001b[0;32m    362\u001b[0m parameters \u001b[39m=\u001b[39m {\u001b[39m\"\u001b[39m\u001b[39mcapabilities\u001b[39m\u001b[39m\"\u001b[39m: w3c_caps}\n\u001b[1;32m--> 363\u001b[0m response \u001b[39m=\u001b[39m \u001b[39mself\u001b[39;49m\u001b[39m.\u001b[39;49mexecute(Command\u001b[39m.\u001b[39;49mNEW_SESSION, parameters)\n\u001b[0;32m    364\u001b[0m \u001b[39mif\u001b[39;00m \u001b[39m'\u001b[39m\u001b[39msessionId\u001b[39m\u001b[39m'\u001b[39m \u001b[39mnot\u001b[39;00m \u001b[39min\u001b[39;00m response:\n\u001b[0;32m    365\u001b[0m     response \u001b[39m=\u001b[39m response[\u001b[39m'\u001b[39m\u001b[39mvalue\u001b[39m\u001b[39m'\u001b[39m]\n",
      "File \u001b[1;32mc:\\Users\\Howne\\AppData\\Local\\Programs\\Python\\Python310\\lib\\site-packages\\selenium\\webdriver\\remote\\webdriver.py:428\u001b[0m, in \u001b[0;36mWebDriver.execute\u001b[1;34m(self, driver_command, params)\u001b[0m\n\u001b[0;32m    426\u001b[0m response \u001b[39m=\u001b[39m \u001b[39mself\u001b[39m\u001b[39m.\u001b[39mcommand_executor\u001b[39m.\u001b[39mexecute(driver_command, params)\n\u001b[0;32m    427\u001b[0m \u001b[39mif\u001b[39;00m response:\n\u001b[1;32m--> 428\u001b[0m     \u001b[39mself\u001b[39;49m\u001b[39m.\u001b[39;49merror_handler\u001b[39m.\u001b[39;49mcheck_response(response)\n\u001b[0;32m    429\u001b[0m     response[\u001b[39m'\u001b[39m\u001b[39mvalue\u001b[39m\u001b[39m'\u001b[39m] \u001b[39m=\u001b[39m \u001b[39mself\u001b[39m\u001b[39m.\u001b[39m_unwrap_value(\n\u001b[0;32m    430\u001b[0m         response\u001b[39m.\u001b[39mget(\u001b[39m'\u001b[39m\u001b[39mvalue\u001b[39m\u001b[39m'\u001b[39m, \u001b[39mNone\u001b[39;00m))\n\u001b[0;32m    431\u001b[0m     \u001b[39mreturn\u001b[39;00m response\n",
      "File \u001b[1;32mc:\\Users\\Howne\\AppData\\Local\\Programs\\Python\\Python310\\lib\\site-packages\\selenium\\webdriver\\remote\\errorhandler.py:243\u001b[0m, in \u001b[0;36mErrorHandler.check_response\u001b[1;34m(self, response)\u001b[0m\n\u001b[0;32m    241\u001b[0m         alert_text \u001b[39m=\u001b[39m value[\u001b[39m'\u001b[39m\u001b[39malert\u001b[39m\u001b[39m'\u001b[39m]\u001b[39m.\u001b[39mget(\u001b[39m'\u001b[39m\u001b[39mtext\u001b[39m\u001b[39m'\u001b[39m)\n\u001b[0;32m    242\u001b[0m     \u001b[39mraise\u001b[39;00m exception_class(message, screen, stacktrace, alert_text)  \u001b[39m# type: ignore[call-arg]  # mypy is not smart enough here\u001b[39;00m\n\u001b[1;32m--> 243\u001b[0m \u001b[39mraise\u001b[39;00m exception_class(message, screen, stacktrace)\n",
      "\u001b[1;31mSessionNotCreatedException\u001b[0m: Message: session not created: This version of ChromeDriver only supports Chrome version 106\nCurrent browser version is 105.0.5195.127 with binary path C:\\Program Files\\Google\\Chrome\\Application\\chrome.exe\nStacktrace:\nBacktrace:\n\tOrdinal0 [0x00731353+2233171]\n\tOrdinal0 [0x006C8E31+1805873]\n\tOrdinal0 [0x005D66FD+812797]\n\tOrdinal0 [0x005F8C6D+953453]\n\tOrdinal0 [0x005F4200+934400]\n\tOrdinal0 [0x005F19C9+924105]\n\tOrdinal0 [0x0062806C+1146988]\n\tOrdinal0 [0x00627A6A+1145450]\n\tOrdinal0 [0x006218A6+1120422]\n\tOrdinal0 [0x005FA73D+960317]\n\tOrdinal0 [0x005FB71F+964383]\n\tGetHandleVerifier [0x009DA2C2+2728322]\n\tGetHandleVerifier [0x009CC184+2670660]\n\tGetHandleVerifier [0x007C102A+528106]\n\tGetHandleVerifier [0x007BFE10+523472]\n\tOrdinal0 [0x006D028C+1835660]\n\tOrdinal0 [0x006D4758+1853272]\n\tOrdinal0 [0x006D4845+1853509]\n\tOrdinal0 [0x006DE7E4+1894372]\n\tBaseThreadInitThunk [0x77C7FA29+25]\n\tRtlGetAppContainerNamedObjectPath [0x77DC7B5E+286]\n\tRtlGetAppContainerNamedObjectPath [0x77DC7B2E+238]\n"
     ]
    }
   ],
   "source": [
    "from selenium import webdriver\n",
    "from selenium.webdriver.chrome.options import Options\n",
    "from selenium.webdriver.common.by import By\n",
    "import undetected_chromedriver\n",
    "import pandas as pd\n",
    "from time import sleep\n",
    "\n",
    "options = webdriver.ChromeOptions()\n",
    "options.add_argument(\"--headless\")\n",
    "driver = undetected_chromedriver.Chrome(options= options)\n",
    "\n"
   ]
  },
  {
   "cell_type": "code",
   "execution_count": null,
   "metadata": {},
   "outputs": [],
   "source": [
    "# driver.set_page_load_timeout(120)\n",
    "driver.get(\"https://csgostats.gg/match/79203471\")\n",
    "\n"
   ]
  },
  {
   "cell_type": "code",
   "execution_count": null,
   "metadata": {},
   "outputs": [
    {
     "name": "stdout",
     "output_type": "stream",
     "text": [
      "['a9b40bc3-4fde-4ddc-a63f-f4385f9d38a8']\n"
     ]
    }
   ],
   "source": [
    "\n",
    "# driver.execute_script(\"window.open();\")\n",
    "# driver.close()\n",
    "# driver.switch_to.window(driver.window_handles[0])\n",
    "# print(driver.window_handles)"
   ]
  },
  {
   "cell_type": "code",
   "execution_count": null,
   "metadata": {},
   "outputs": [
    {
     "name": "stdout",
     "output_type": "stream",
     "text": [
      "['aaf4b12b-d374-4c70-b2c4-cc0181d8d661']\n"
     ]
    }
   ],
   "source": [
    "print(driver.window_handles)"
   ]
  },
  {
   "cell_type": "code",
   "execution_count": null,
   "metadata": {},
   "outputs": [],
   "source": [
    "mm = driver.find_elements(By.LINK_TEXT,\"Official Matchmaking\")\n",
    "print(mm.get_attribute(\"textContent\").strip())"
   ]
  },
  {
   "cell_type": "code",
   "execution_count": 291,
   "metadata": {},
   "outputs": [],
   "source": [
    "\n",
    "\n",
    "\n",
    "players =  driver.find_elements( By.CLASS_NAME, 'player-link')\n",
    "i = 0\n",
    "match = []\n",
    "for player in players:\n",
    "\n",
    "    playerstats = {}\n",
    "\n",
    "    playerstats[\"Player ID\"] = player.get_attribute('href')[-17:-1]\n",
    "\n",
    "    PCard = player.find_element(By.XPATH,\"./..\").find_element(By.XPATH,\"./..\")\n",
    "\n",
    "    rank = PCard.find_elements(By.CLASS_NAME, \"rank\")\n",
    "    if rank.__len__():\n",
    "        playerstats[\"Rank\"] = (rank[0].get_attribute(\"src\"))[-6:-4].strip(\"/\")\n",
    "\n",
    "    rankupicon = PCard.find_elements(By.XPATH, \"./td/div/div/span\")\n",
    "\n",
    "    if(rankupicon.__len__()):\n",
    "        rankup = rankupicon[0].get_attribute(\"class\")\n",
    "        if rankup == \"glyphicon glyphicon-chevron-up\" :\n",
    "            playerstats[\"Rank Gain\"] = 1\n",
    "\n",
    "        elif rankup == \"glyphicon glyphicon-chevron-down\" :\n",
    "            playerstats[\"Rank Gain\"] = -1\n",
    "\n",
    "    else :\n",
    "        playerstats[\"Rank Gain\"] = 0        \n",
    "    \n",
    "    # print(stats[\"rank gain\"])\n",
    "    teamScore = player.find_element(By.XPATH,\"./..\")\n",
    "    teamScore = teamScore.find_element(By.XPATH,\"./..\")\n",
    "    teamScore = teamScore.find_element(By.XPATH,\"./..\")\n",
    "    \n",
    "    #teamScore = teamScore.find_element(By.ID,'match-scoreboard')\n",
    "    #teamScore = teamScore.find_element(By.CLASS_NAME,'scoreboard')\n",
    "    \n",
    "    playerstats[\"Team\"] = teamScore.find_element(By.XPATH, \"./tr/td/div\").get_attribute(\"textContent\").strip() [-1:]\n",
    "\n",
    "    stats = PCard.find_elements(By.TAG_NAME, \"td\")\n",
    "\n",
    "    # for stat in stats:\n",
    "    #     print(stat.get_attribute(\"data-collapse\"),stat.get_attribute(\"textContent\").strip() )\n",
    "    \n",
    "    \n",
    "\n",
    "    playerstats[\"K\"] =                  stats[2].get_attribute(\"textContent\").strip()\n",
    "    playerstats[\"D\"] =                  stats[3].get_attribute(\"textContent\").strip()  \n",
    "    playerstats[\"A\"] =                  stats[4].get_attribute(\"textContent\").strip()  \n",
    "    playerstats[\"+/-\"] =                stats[5].get_attribute(\"textContent\").strip()  \n",
    "    playerstats[\"K/D\"] =                stats[6].get_attribute(\"textContent\").strip()  \n",
    "    playerstats[\"ADR\"] =                stats[7].get_attribute(\"textContent\").strip()  \n",
    "    playerstats[\"HS%\"] =                stats[8].get_attribute(\"textContent\").strip()  \n",
    "    playerstats[\"KAST\"] =               stats[9].get_attribute(\"textContent\").strip()  \n",
    "    playerstats[\"Rating\"] =             stats[10].get_attribute(\"textContent\").strip()  \n",
    "    playerstats[\"EF\"] =                 stats[11].get_attribute(\"textContent\").strip()  \n",
    "    playerstats[\"FA\"] =                 stats[12].get_attribute(\"textContent\").strip()  \n",
    "    playerstats[\"EBT\"] =                stats[13].get_attribute(\"textContent\").strip()  \n",
    "    playerstats[\"UD\"] =                 stats[14].get_attribute(\"textContent\").strip()  \n",
    "    playerstats[\"FKD\"] =                stats[15].get_attribute(\"textContent\").strip()  \n",
    "    playerstats[\"FK\"] =                 stats[16].get_attribute(\"textContent\").strip() \n",
    "    playerstats[\"FD\"] =                 stats[17].get_attribute(\"textContent\").strip() \n",
    "    playerstats[\"FK as T\"] =            stats[18].get_attribute(\"textContent\").strip()  \n",
    "    playerstats[\"FD as T\"] =            stats[19].get_attribute(\"textContent\").strip()  \n",
    "    playerstats[\"FK as CT\"] =           stats[20].get_attribute(\"textContent\").strip()  \n",
    "    playerstats[\"FD as CT\"] =           stats[21].get_attribute(\"textContent\").strip()  \n",
    "    playerstats[\"Trade K\"] =            stats[22].get_attribute(\"textContent\").strip()  \n",
    "    playerstats[\"Trade D\"] =            stats[23].get_attribute(\"textContent\").strip()  \n",
    "    playerstats[\"Trade FK\"] =           stats[24].get_attribute(\"textContent\").strip()  \n",
    "    playerstats[\"Trade FD\"] =           stats[25].get_attribute(\"textContent\").strip()  \n",
    "    playerstats[\"Trade FK as T\"] =      stats[26].get_attribute(\"textContent\").strip()  \n",
    "    playerstats[\"Trade FD as T\"] =      stats[27].get_attribute(\"textContent\").strip()  \n",
    "    playerstats[\"Trade FK as CT\"] =     stats[28].get_attribute(\"textContent\").strip()  \n",
    "    playerstats[\"Trade FD as CT\"] =     stats[29].get_attribute(\"textContent\").strip()  \n",
    "    playerstats[\"1vX\"] =                stats[30].get_attribute(\"textContent\").strip()  \n",
    "    playerstats[\"1v5\"] =                stats[31].get_attribute(\"textContent\").strip()  \n",
    "    playerstats[\"1v4\"] =                stats[32].get_attribute(\"textContent\").strip()  \n",
    "    playerstats[\"1v3\"] =                stats[33].get_attribute(\"textContent\").strip()  \n",
    "    playerstats[\"1v2\"] =                stats[34].get_attribute(\"textContent\").strip()  \n",
    "    playerstats[\"1v1\"] =                stats[35].get_attribute(\"textContent\").strip()  \n",
    "    playerstats[\"3K+\"] =                stats[36].get_attribute(\"textContent\").strip()  \n",
    "    playerstats[\"5K\"] =                 stats[37].get_attribute(\"textContent\").strip()  \n",
    "    playerstats[\"4K\"] =                 stats[38].get_attribute(\"textContent\").strip()  \n",
    "    playerstats[\"3K\"] =                 stats[39].get_attribute(\"textContent\").strip()  \n",
    "    playerstats[\"2K\"] =                 stats[40].get_attribute(\"textContent\").strip()  \n",
    "    playerstats[\"1K\"] =                 stats[41].get_attribute(\"textContent\").strip()  \n",
    " \n",
    "    # print(stats[\"team\"])\n",
    "    match.append(playerstats)\n",
    "    i+=1\n",
    "    \n",
    "\n"
   ]
  },
  {
   "cell_type": "code",
   "execution_count": 292,
   "metadata": {},
   "outputs": [],
   "source": [
    "driver.quit()\n"
   ]
  },
  {
   "cell_type": "code",
   "execution_count": 293,
   "metadata": {},
   "outputs": [
    {
     "name": "stdout",
     "output_type": "stream",
     "text": [
      "          Player ID  Rank Gain Team   K   D  A +/-   K/D    ADR  HS%  ... 1v3  \\\n",
      "0  7656119807157636          0    1  10   9  1   1  1.10     79  50%  ...   0   \n",
      "1  7656119796418314          0    1   9  10  1  -1  0.90   81.5  11%  ...   0   \n",
      "2  7656119805972497         -1    1   8  12  2  -4  0.70   76.2  88%  ...   0   \n",
      "3  7656119811742782          0    1   7  11  6  -4  0.60     67  57%  ...   0   \n",
      "4  7656119903842191          0    1   6  10  1  -4  0.60   53.4  17%  ...   0   \n",
      "5  7656119910744292          0    2  17   7  1  10  2.40  143.5  41%  ...   0   \n",
      "6  7656119814289465          1    2  13  10  4   3  1.30  121.8  77%  ...   0   \n",
      "7  7656119897830692          0    2  10   8  2   2  1.30   68.6  30%  ...   0   \n",
      "8  7656119843877391          0    2   8  10  2  -2  0.80   71.1  63%  ...   0   \n",
      "9  7656119899690031          1    2   4   6  0  -2  0.70   31.3   0%  ...   0   \n",
      "\n",
      "  1v2 1v1 3K+ 5K 4K 3K 2K 1K Rank  \n",
      "0   0   0   0  0  0  0  4  2  NaN  \n",
      "1   0   0   1  0  0  1  1  4  NaN  \n",
      "2   0   0   0  0  0  0  2  4   16  \n",
      "3   0   0   0  0  0  0  2  3   17  \n",
      "4   0   0   0  0  0  0  0  6   13  \n",
      "5   0   0   3  1  1  1  0  5   16  \n",
      "6   0   0   2  0  1  1  2  2   13  \n",
      "7   0   0   1  0  0  1  2  3   17  \n",
      "8   0   0   0  0  0  0  2  4   17  \n",
      "9   0   0   0  0  0  0  0  4   16  \n",
      "\n",
      "[10 rows x 44 columns]\n"
     ]
    }
   ],
   "source": [
    "import pandas as pd\n",
    "df = pd.DataFrame(match)\n",
    "print(df.columns)"
   ]
  },
  {
   "cell_type": "code",
   "execution_count": 294,
   "metadata": {},
   "outputs": [
    {
     "name": "stdout",
     "output_type": "stream",
     "text": [
      "Index(['Player ID', 'Rank Gain', 'Team', 'K', 'D', 'A', '+/-', 'K/D', 'ADR',\n",
      "       'HS%', 'KAST', 'Rating', 'EF', 'FA', 'EBT', 'UD', 'FKD', 'FK', 'FD',\n",
      "       'FK as T', 'FD as T', 'FK as CT', 'FD as CT', 'Trade K', 'Trade D',\n",
      "       'Trade FK', 'Trade FD', 'Trade FK as T', 'Trade FD as T',\n",
      "       'Trade FK as CT', 'Trade FD as CT', '1vX', '1v5', '1v4', '1v3', '1v2',\n",
      "       '1v1', '3K+', '5K', '4K', '3K', '2K', '1K', 'Rank'],\n",
      "      dtype='object')\n"
     ]
    }
   ],
   "source": [
    "print(df.columns)"
   ]
  }
 ],
 "metadata": {
  "kernelspec": {
   "display_name": "Python 3.10.0 64-bit",
   "language": "python",
   "name": "python3"
  },
  "language_info": {
   "codemirror_mode": {
    "name": "ipython",
    "version": 3
   },
   "file_extension": ".py",
   "mimetype": "text/x-python",
   "name": "python",
   "nbconvert_exporter": "python",
   "pygments_lexer": "ipython3",
   "version": "3.10.0"
  },
  "orig_nbformat": 4,
  "vscode": {
   "interpreter": {
    "hash": "0069d39d3f5bc61499d95c35798b6162c79b5e73201dfa0ac4c3fa1e1b366fbb"
   }
  }
 },
 "nbformat": 4,
 "nbformat_minor": 2
}
