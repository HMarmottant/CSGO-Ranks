{
 "cells": [
  {
   "cell_type": "code",
   "execution_count": 15,
   "metadata": {},
   "outputs": [],
   "source": [
    "from selenium import webdriver\n",
    "from selenium.webdriver.firefox.options import Options\n",
    "from selenium.webdriver.common.by import By\n",
    "import pandas as pd"
   ]
  },
  {
   "cell_type": "code",
   "execution_count": 16,
   "metadata": {},
   "outputs": [],
   "source": [
    "def fetchMatch(matchID, driver):\n",
    "    driver.get(\"https://csgostats.gg/match/\" + str(matchID))\n",
    "    players =  driver.find_elements( By.CLASS_NAME, 'player-link')\n",
    "    match = []\n",
    "    for player in players:\n",
    "\n",
    "        playerstats = {}\n",
    "        playerstats[\"Match ID\"] = matchID\n",
    "        playerstats[\"Player ID\"] = player.get_attribute('href')[-17:-1]\n",
    "\n",
    "        PCard = player.find_element(By.XPATH,\"./..\").find_element(By.XPATH,\"./..\")\n",
    "\n",
    "        rank = PCard.find_elements(By.CLASS_NAME, \"rank\")\n",
    "        if rank.__len__():\n",
    "            playerstats[\"Rank\"] = (rank[0].get_attribute(\"src\"))[-6:-4].strip(\"/\")\n",
    "\n",
    "        rankupicon = PCard.find_elements(By.XPATH, \"./td/div/div/span\")\n",
    "\n",
    "        if(rankupicon.__len__()):\n",
    "            rankup = rankupicon[0].get_attribute(\"class\")\n",
    "            if rankup == \"glyphicon glyphicon-chevron-up\" :\n",
    "                playerstats[\"Rank Gain\"] = 1\n",
    "\n",
    "            elif rankup == \"glyphicon glyphicon-chevron-down\" :\n",
    "                playerstats[\"Rank Gain\"] = -1\n",
    "\n",
    "        else :\n",
    "            playerstats[\"Rank Gain\"] = 0        \n",
    "        \n",
    "        # print(stats[\"rank gain\"])\n",
    "        teamScore = player.find_element(By.XPATH,\"./..\")\n",
    "        teamScore = teamScore.find_element(By.XPATH,\"./..\")\n",
    "        teamScore = teamScore.find_element(By.XPATH,\"./..\")\n",
    "        \n",
    "        #teamScore = teamScore.find_element(By.ID,'match-scoreboard')\n",
    "        #teamScore = teamScore.find_element(By.CLASS_NAME,'scoreboard')\n",
    "        \n",
    "        playerstats[\"Team\"] = teamScore.find_element(By.XPATH, \"./tr/td/div\").get_attribute(\"textContent\").strip() [-1:]\n",
    "\n",
    "        stats = PCard.find_elements(By.TAG_NAME, \"td\")\n",
    "\n",
    "        # for stat in stats:\n",
    "        #     print(stat.get_attribute(\"data-collapse\"),stat.get_attribute(\"textContent\").strip() )\n",
    "        \n",
    "        \n",
    "\n",
    "        playerstats[\"K\"] =                  stats[2].get_attribute(\"textContent\").strip()\n",
    "        playerstats[\"D\"] =                  stats[3].get_attribute(\"textContent\").strip()  \n",
    "        playerstats[\"A\"] =                  stats[4].get_attribute(\"textContent\").strip()  \n",
    "        playerstats[\"+/-\"] =                stats[5].get_attribute(\"textContent\").strip()  \n",
    "        playerstats[\"K/D\"] =                stats[6].get_attribute(\"textContent\").strip()  \n",
    "        playerstats[\"ADR\"] =                stats[7].get_attribute(\"textContent\").strip()  \n",
    "        playerstats[\"HS%\"] =                stats[8].get_attribute(\"textContent\").strip()  \n",
    "        playerstats[\"KAST\"] =               stats[9].get_attribute(\"textContent\").strip()  \n",
    "        playerstats[\"Rating\"] =             stats[10].get_attribute(\"textContent\").strip()  \n",
    "        playerstats[\"EF\"] =                 stats[11].get_attribute(\"textContent\").strip()  \n",
    "        playerstats[\"FA\"] =                 stats[12].get_attribute(\"textContent\").strip()  \n",
    "        playerstats[\"EBT\"] =                stats[13].get_attribute(\"textContent\").strip()  \n",
    "        playerstats[\"UD\"] =                 stats[14].get_attribute(\"textContent\").strip()  \n",
    "        playerstats[\"FKD\"] =                stats[15].get_attribute(\"textContent\").strip()  \n",
    "        playerstats[\"FK\"] =                 stats[16].get_attribute(\"textContent\").strip() \n",
    "        playerstats[\"FD\"] =                 stats[17].get_attribute(\"textContent\").strip() \n",
    "        playerstats[\"FK as T\"] =            stats[18].get_attribute(\"textContent\").strip()  \n",
    "        playerstats[\"FD as T\"] =            stats[19].get_attribute(\"textContent\").strip()  \n",
    "        playerstats[\"FK as CT\"] =           stats[20].get_attribute(\"textContent\").strip()  \n",
    "        playerstats[\"FD as CT\"] =           stats[21].get_attribute(\"textContent\").strip()  \n",
    "        playerstats[\"Trade K\"] =            stats[22].get_attribute(\"textContent\").strip()  \n",
    "        playerstats[\"Trade D\"] =            stats[23].get_attribute(\"textContent\").strip()  \n",
    "        playerstats[\"Trade FK\"] =           stats[24].get_attribute(\"textContent\").strip()  \n",
    "        playerstats[\"Trade FD\"] =           stats[25].get_attribute(\"textContent\").strip()  \n",
    "        playerstats[\"Trade FK as T\"] =      stats[26].get_attribute(\"textContent\").strip()  \n",
    "        playerstats[\"Trade FD as T\"] =      stats[27].get_attribute(\"textContent\").strip()  \n",
    "        playerstats[\"Trade FK as CT\"] =     stats[28].get_attribute(\"textContent\").strip()  \n",
    "        playerstats[\"Trade FD as CT\"] =     stats[29].get_attribute(\"textContent\").strip()  \n",
    "        playerstats[\"1vX\"] =                stats[30].get_attribute(\"textContent\").strip()  \n",
    "        playerstats[\"1v5\"] =                stats[31].get_attribute(\"textContent\").strip()  \n",
    "        playerstats[\"1v4\"] =                stats[32].get_attribute(\"textContent\").strip()  \n",
    "        playerstats[\"1v3\"] =                stats[33].get_attribute(\"textContent\").strip()  \n",
    "        playerstats[\"1v2\"] =                stats[34].get_attribute(\"textContent\").strip()  \n",
    "        playerstats[\"1v1\"] =                stats[35].get_attribute(\"textContent\").strip()  \n",
    "        playerstats[\"3K+\"] =                stats[36].get_attribute(\"textContent\").strip()  \n",
    "        playerstats[\"5K\"] =                 stats[37].get_attribute(\"textContent\").strip()  \n",
    "        playerstats[\"4K\"] =                 stats[38].get_attribute(\"textContent\").strip()  \n",
    "        playerstats[\"3K\"] =                 stats[39].get_attribute(\"textContent\").strip()  \n",
    "        playerstats[\"2K\"] =                 stats[40].get_attribute(\"textContent\").strip()  \n",
    "        playerstats[\"1K\"] =                 stats[41].get_attribute(\"textContent\").strip()  \n",
    "    \n",
    "        # print(stats[\"team\"])\n",
    "        match.append(playerstats)\n",
    "    return match"
   ]
  },
  {
   "cell_type": "code",
   "execution_count": 19,
   "metadata": {},
   "outputs": [
    {
     "name": "stderr",
     "output_type": "stream",
     "text": [
      "C:\\Users\\Howne\\AppData\\Local\\Temp\\ipykernel_15040\\455888471.py:15: FutureWarning: The frame.append method is deprecated and will be removed from pandas in a future version. Use pandas.concat instead.\n",
      "  df.append(pd.DataFrame(fetchMatch(79000000 + i,driver)))\n",
      "C:\\Users\\Howne\\AppData\\Local\\Temp\\ipykernel_15040\\455888471.py:15: FutureWarning: The frame.append method is deprecated and will be removed from pandas in a future version. Use pandas.concat instead.\n",
      "  df.append(pd.DataFrame(fetchMatch(79000000 + i,driver)))\n",
      "C:\\Users\\Howne\\AppData\\Local\\Temp\\ipykernel_15040\\455888471.py:15: FutureWarning: The frame.append method is deprecated and will be removed from pandas in a future version. Use pandas.concat instead.\n",
      "  df.append(pd.DataFrame(fetchMatch(79000000 + i,driver)))\n",
      "C:\\Users\\Howne\\AppData\\Local\\Temp\\ipykernel_15040\\455888471.py:15: FutureWarning: The frame.append method is deprecated and will be removed from pandas in a future version. Use pandas.concat instead.\n",
      "  df.append(pd.DataFrame(fetchMatch(79000000 + i,driver)))\n",
      "C:\\Users\\Howne\\AppData\\Local\\Temp\\ipykernel_15040\\455888471.py:15: FutureWarning: The frame.append method is deprecated and will be removed from pandas in a future version. Use pandas.concat instead.\n",
      "  df.append(pd.DataFrame(fetchMatch(79000000 + i,driver)))\n",
      "C:\\Users\\Howne\\AppData\\Local\\Temp\\ipykernel_15040\\455888471.py:15: FutureWarning: The frame.append method is deprecated and will be removed from pandas in a future version. Use pandas.concat instead.\n",
      "  df.append(pd.DataFrame(fetchMatch(79000000 + i,driver)))\n",
      "C:\\Users\\Howne\\AppData\\Local\\Temp\\ipykernel_15040\\455888471.py:15: FutureWarning: The frame.append method is deprecated and will be removed from pandas in a future version. Use pandas.concat instead.\n",
      "  df.append(pd.DataFrame(fetchMatch(79000000 + i,driver)))\n",
      "C:\\Users\\Howne\\AppData\\Local\\Temp\\ipykernel_15040\\455888471.py:15: FutureWarning: The frame.append method is deprecated and will be removed from pandas in a future version. Use pandas.concat instead.\n",
      "  df.append(pd.DataFrame(fetchMatch(79000000 + i,driver)))\n",
      "C:\\Users\\Howne\\AppData\\Local\\Temp\\ipykernel_15040\\455888471.py:15: FutureWarning: The frame.append method is deprecated and will be removed from pandas in a future version. Use pandas.concat instead.\n",
      "  df.append(pd.DataFrame(fetchMatch(79000000 + i,driver)))\n",
      "C:\\Users\\Howne\\AppData\\Local\\Temp\\ipykernel_15040\\455888471.py:15: FutureWarning: The frame.append method is deprecated and will be removed from pandas in a future version. Use pandas.concat instead.\n",
      "  df.append(pd.DataFrame(fetchMatch(79000000 + i,driver)))\n"
     ]
    }
   ],
   "source": [
    "options = Options()\n",
    "options.headless = True\n",
    "options.add_argument(\"--window-size=1920,1200\")\n",
    "\n",
    "driver = webdriver.Firefox(options=options)\n",
    "colomns = ['Player ID', 'Rank Gain', 'Team', 'K', 'D', 'A', '+/-', 'K/D', 'ADR',\n",
    "       'HS%', 'KAST', 'Rating', 'EF', 'FA', 'EBT', 'UD', 'FKD', 'FK', 'FD',\n",
    "       'FK as T', 'FD as T', 'FK as CT', 'FD as CT', 'Trade K', 'Trade D',\n",
    "       'Trade FK', 'Trade FD', 'Trade FK as T', 'Trade FD as T',\n",
    "       'Trade FK as CT', 'Trade FD as CT', '1vX', '1v5', '1v4', '1v3', '1v2',\n",
    "       '1v1', '3K+', '5K', '4K', '3K', '2K', '1K', 'Rank']\n",
    "df = pd.DataFrame(columns = colomns)\n",
    "\n",
    "for i in range(10):\n",
    "    df = pd.concat([df,pd.DataFrame(fetchMatch(79000000 + i,driver))])\n",
    "\n",
    "driver.quit()"
   ]
  },
  {
   "cell_type": "code",
   "execution_count": 20,
   "metadata": {},
   "outputs": [
    {
     "name": "stdout",
     "output_type": "stream",
     "text": [
      "Empty DataFrame\n",
      "Columns: [Player ID, Rank Gain, Team, K, D, A, +/-, K/D, ADR, HS%, KAST, Rating, EF, FA, EBT, UD, FKD, FK, FD, FK as T, FD as T, FK as CT, FD as CT, Trade K, Trade D, Trade FK, Trade FD, Trade FK as T, Trade FD as T, Trade FK as CT, Trade FD as CT, 1vX, 1v5, 1v4, 1v3, 1v2, 1v1, 3K+, 5K, 4K, 3K, 2K, 1K, Rank]\n",
      "Index: []\n",
      "\n",
      "[0 rows x 44 columns]\n"
     ]
    }
   ],
   "source": [
    "print(df.head())\n"
   ]
  }
 ],
 "metadata": {
  "kernelspec": {
   "display_name": "Python 3.10.0 64-bit",
   "language": "python",
   "name": "python3"
  },
  "language_info": {
   "codemirror_mode": {
    "name": "ipython",
    "version": 3
   },
   "file_extension": ".py",
   "mimetype": "text/x-python",
   "name": "python",
   "nbconvert_exporter": "python",
   "pygments_lexer": "ipython3",
   "version": "3.10.0"
  },
  "orig_nbformat": 4,
  "vscode": {
   "interpreter": {
    "hash": "0069d39d3f5bc61499d95c35798b6162c79b5e73201dfa0ac4c3fa1e1b366fbb"
   }
  }
 },
 "nbformat": 4,
 "nbformat_minor": 2
}
