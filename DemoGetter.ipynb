{
 "cells": [
  {
   "cell_type": "code",
   "execution_count": 1,
   "metadata": {},
   "outputs": [],
   "source": [
    "from selenium import webdriver\n",
    "from selenium.webdriver.chrome.options import Options\n",
    "from selenium.webdriver.common.by import By\n",
    "import undetected_chromedriver\n",
    "import pandas as pd\n",
    "from time import sleep\n",
    "from multiprocessing import Pool\n",
    "from functools import partial\n",
    "import os"
   ]
  },
  {
   "cell_type": "code",
   "execution_count": 2,
   "metadata": {},
   "outputs": [],
   "source": [
    "df = pd.DataFrame()\n",
    "\n",
    "# frame = []\n",
    "\n",
    "options = webdriver.ChromeOptions()\n",
    "# options.add_argument(\"--headless\")\n",
    "driver = undetected_chromedriver.Chrome(options= options)\n",
    "driver.get(\"https://csgostats.gg/match/81651648/watch/c2cd31415ed02d6944f266e2cfe8726d64ee23f22ff5b42866500648d4b04ece\")"
   ]
  }
 ],
 "metadata": {
  "kernelspec": {
   "display_name": "Python 3.10.7 64-bit",
   "language": "python",
   "name": "python3"
  },
  "language_info": {
   "codemirror_mode": {
    "name": "ipython",
    "version": 3
   },
   "file_extension": ".py",
   "mimetype": "text/x-python",
   "name": "python",
   "nbconvert_exporter": "python",
   "pygments_lexer": "ipython3",
   "version": "3.10.7"
  },
  "orig_nbformat": 4,
  "vscode": {
   "interpreter": {
    "hash": "4e2a1615026d654717ba5bbd93439aa7ec89b037cb88e8811475f30cd55665e0"
   }
  }
 },
 "nbformat": 4,
 "nbformat_minor": 2
}
