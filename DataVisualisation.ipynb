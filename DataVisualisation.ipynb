{
 "cells": [
  {
   "cell_type": "code",
   "execution_count": 46,
   "metadata": {},
   "outputs": [
    {
     "name": "stdout",
     "output_type": "stream",
     "text": [
      "        Unnamed: 0  Match ID              Match Date         Player ID  Rank  \\\n",
      "0                0  79200100  15th Sep 2022 18:32:40  7656119882180390   7.0   \n",
      "1                1  79200100  15th Sep 2022 18:32:40  7656119816589860   7.0   \n",
      "2                2  79200100  15th Sep 2022 18:32:40  7656119833621343   9.0   \n",
      "3                3  79200100  15th Sep 2022 18:32:40  7656119912434321   9.0   \n",
      "4                4  79200100  15th Sep 2022 18:32:40  7656119911440158  10.0   \n",
      "...            ...       ...                     ...               ...   ...   \n",
      "327895           5  79296501  17th Sep 2022 12:23:44  7656119810536684  13.0   \n",
      "327896           6  79296501  17th Sep 2022 12:23:44  7656119816015274  11.0   \n",
      "327897           7  79296501  17th Sep 2022 12:23:44  7656119815443985  13.0   \n",
      "327898           8  79296501  17th Sep 2022 12:23:44  7656119814564744  11.0   \n",
      "327899           9  79296501  17th Sep 2022 12:23:44  7656119828817932  13.0   \n",
      "\n",
      "        Rank Gain Team  Team 1 Score  Team 2 Score   K  ...  1v4  1v3  1v2  \\\n",
      "0               0    1            16             4  42  ...    0    0    1   \n",
      "1               0    1            16             4  14  ...    0    0    0   \n",
      "2               0    1            16             4  16  ...    0    0    0   \n",
      "3               0    1            16             4  12  ...    0    0    0   \n",
      "4               0    1            16             4   8  ...    0    0    0   \n",
      "...           ...  ...           ...           ...  ..  ...  ...  ...  ...   \n",
      "327895          0    2            12            16  21  ...    0    0    0   \n",
      "327896          0    2            12            16  23  ...    0    0    0   \n",
      "327897          0    2            12            16  24  ...    0    0    0   \n",
      "327898          0    2            12            16  18  ...    0    0    0   \n",
      "327899          0    2            12            16  15  ...    0    0    0   \n",
      "\n",
      "        1v1  3K+ 5K 4K  3K  2K  1K  \n",
      "0         1    8  1  1   6   4   7  \n",
      "1         1    1  0  0   1   1   9  \n",
      "2         0    1  0  0   1   2   9  \n",
      "3         0    0  0  0   0   2   8  \n",
      "4         0    0  0  0   0   1   6  \n",
      "...     ...  ... .. ..  ..  ..  ..  \n",
      "327895    0    4  0  0   4   2   5  \n",
      "327896    0    1  0  1   0   6   7  \n",
      "327897    0    1  0  0   1   5  11  \n",
      "327898    0    1  0  0   1   3   9  \n",
      "327899    0    0  0  0   0   5   5  \n",
      "\n",
      "[327900 rows x 49 columns]\n"
     ]
    }
   ],
   "source": [
    "import imp\n",
    "import pandas as pd\n",
    "import os\n",
    "import glob\n",
    "\n",
    "importfiles = os.path.join(\"./Batch3\",\"matches*.csv\")\n",
    "\n",
    "importfiles = glob.glob(importfiles)\n",
    "\n",
    "data = pd.concat(map(pd.read_csv,importfiles),ignore_index= True)\n",
    "\n",
    "print(data)"
   ]
  },
  {
   "cell_type": "code",
   "execution_count": 3,
   "metadata": {},
   "outputs": [
    {
     "name": "stdout",
     "output_type": "stream",
     "text": [
      "Unnamed: 0          int64\n",
      "Match ID            int64\n",
      "Match Date         object\n",
      "Player ID           int64\n",
      "Rank              float64\n",
      "Rank Gain           int64\n",
      "Team               object\n",
      "Team 1 Score        int64\n",
      "Team 2 Score        int64\n",
      "K                   int64\n",
      "D                   int64\n",
      "A                   int64\n",
      "+/-                 int64\n",
      "K/D               float64\n",
      "ADR               float64\n",
      "HS%                object\n",
      "KAST               object\n",
      "Rating            float64\n",
      "EF                  int64\n",
      "FA                  int64\n",
      "EBT                object\n",
      "UD                  int64\n",
      "FKD                 int64\n",
      "FK                  int64\n",
      "FD                  int64\n",
      "FK as T             int64\n",
      "FD as T             int64\n",
      "FK as CT            int64\n",
      "FD as CT            int64\n",
      "Trade K             int64\n",
      "Trade D             int64\n",
      "Trade FK            int64\n",
      "Trade FD            int64\n",
      "Trade FK as T       int64\n",
      "Trade FD as T       int64\n",
      "Trade FK as CT      int64\n",
      "Trade FD as CT      int64\n",
      "1vX                 int64\n",
      "1v5                 int64\n",
      "1v4                 int64\n",
      "1v3                 int64\n",
      "1v2                 int64\n",
      "1v1                 int64\n",
      "3K+                 int64\n",
      "5K                  int64\n",
      "4K                  int64\n",
      "3K                  int64\n",
      "2K                  int64\n",
      "1K                  int64\n",
      "dtype: object\n"
     ]
    }
   ],
   "source": []
  }
 ],
 "metadata": {
  "kernelspec": {
   "display_name": "Python 3.10.7 64-bit",
   "language": "python",
   "name": "python3"
  },
  "language_info": {
   "codemirror_mode": {
    "name": "ipython",
    "version": 3
   },
   "file_extension": ".py",
   "mimetype": "text/x-python",
   "name": "python",
   "nbconvert_exporter": "python",
   "pygments_lexer": "ipython3",
   "version": "3.10.7"
  },
  "orig_nbformat": 4,
  "vscode": {
   "interpreter": {
    "hash": "4e2a1615026d654717ba5bbd93439aa7ec89b037cb88e8811475f30cd55665e0"
   }
  }
 },
 "nbformat": 4,
 "nbformat_minor": 2
}
