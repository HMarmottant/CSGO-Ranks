{
 "cells": [
  {
   "cell_type": "code",
   "execution_count": 2,
   "metadata": {},
   "outputs": [
    {
     "name": "stderr",
     "output_type": "stream",
     "text": [
      "C:\\Users\\Mouette\\AppData\\Local\\Temp\\ipykernel_12640\\1636916417.py:1: DeprecationWarning: the imp module is deprecated in favour of importlib and slated for removal in Python 3.12; see the module's documentation for alternative uses\n",
      "  import imp\n"
     ]
    },
    {
     "name": "stdout",
     "output_type": "stream",
     "text": [
      "        Unnamed: 0  Match ID              Match Date         Player ID  Rank  \\\n",
      "0                0  79200100  15th Sep 2022 18:32:40  7656119882180390   7.0   \n",
      "1                1  79200100  15th Sep 2022 18:32:40  7656119816589860   7.0   \n",
      "2                2  79200100  15th Sep 2022 18:32:40  7656119833621343   9.0   \n",
      "3                3  79200100  15th Sep 2022 18:32:40  7656119912434321   9.0   \n",
      "4                4  79200100  15th Sep 2022 18:32:40  7656119911440158  10.0   \n",
      "...            ...       ...                     ...               ...   ...   \n",
      "327895           5  79296501  17th Sep 2022 12:23:44  7656119810536684  13.0   \n",
      "327896           6  79296501  17th Sep 2022 12:23:44  7656119816015274  11.0   \n",
      "327897           7  79296501  17th Sep 2022 12:23:44  7656119815443985  13.0   \n",
      "327898           8  79296501  17th Sep 2022 12:23:44  7656119814564744  11.0   \n",
      "327899           9  79296501  17th Sep 2022 12:23:44  7656119828817932  13.0   \n",
      "\n",
      "        Rank Gain Team  Team 1 Score  Team 2 Score   K  ...  1v4  1v3  1v2  \\\n",
      "0               0    1            16             4  42  ...    0    0    1   \n",
      "1               0    1            16             4  14  ...    0    0    0   \n",
      "2               0    1            16             4  16  ...    0    0    0   \n",
      "3               0    1            16             4  12  ...    0    0    0   \n",
      "4               0    1            16             4   8  ...    0    0    0   \n",
      "...           ...  ...           ...           ...  ..  ...  ...  ...  ...   \n",
      "327895          0    2            12            16  21  ...    0    0    0   \n",
      "327896          0    2            12            16  23  ...    0    0    0   \n",
      "327897          0    2            12            16  24  ...    0    0    0   \n",
      "327898          0    2            12            16  18  ...    0    0    0   \n",
      "327899          0    2            12            16  15  ...    0    0    0   \n",
      "\n",
      "        1v1  3K+ 5K 4K  3K  2K  1K  \n",
      "0         1    8  1  1   6   4   7  \n",
      "1         1    1  0  0   1   1   9  \n",
      "2         0    1  0  0   1   2   9  \n",
      "3         0    0  0  0   0   2   8  \n",
      "4         0    0  0  0   0   1   6  \n",
      "...     ...  ... .. ..  ..  ..  ..  \n",
      "327895    0    4  0  0   4   2   5  \n",
      "327896    0    1  0  1   0   6   7  \n",
      "327897    0    1  0  0   1   5  11  \n",
      "327898    0    1  0  0   1   3   9  \n",
      "327899    0    0  0  0   0   5   5  \n",
      "\n",
      "[327900 rows x 49 columns]\n"
     ]
    }
   ],
   "source": [
    "import imp\n",
    "import pandas as pd\n",
    "import os\n",
    "import glob\n",
    "\n",
    "importfiles = os.path.join(\"./Batch3\",\"matches*.csv\")\n",
    "\n",
    "importfiles = glob.glob(importfiles)\n",
    "\n",
    "data = pd.concat(map(pd.read_csv,importfiles),ignore_index= True)\n",
    "\n",
    "print(data)"
   ]
  },
  {
   "cell_type": "code",
   "execution_count": 3,
   "metadata": {},
   "outputs": [],
   "source": [
    "data = data.loc[:, ~data.columns.str.contains('^Unnamed')]"
   ]
  },
  {
   "cell_type": "code",
   "execution_count": 4,
   "metadata": {},
   "outputs": [],
   "source": [
    "import matplotlib\n",
    "import datetime\n",
    "\n",
    "from numpy import mat\n",
    "\n",
    "def roundTime(dt=None, roundTo=60):\n",
    "   \"\"\"Round a datetime object to any time lapse in seconds\n",
    "   dt : datetime.datetime object, default now.\n",
    "   roundTo : Closest number of seconds to round to, default 1 minute.\n",
    "   Author: Thierry Husson 2012 - Use it as you want but don't blame me.\n",
    "   \"\"\"\n",
    "   if dt == None : dt = datetime.datetime.now()\n",
    "   seconds = (dt.replace(tzinfo=None) - dt.min).seconds\n",
    "   rounding = (seconds+roundTo/2) // roundTo * roundTo\n",
    "   return dt + datetime.timedelta(0,rounding-seconds,-dt.microsecond)"
   ]
  },
  {
   "cell_type": "code",
   "execution_count": 5,
   "metadata": {},
   "outputs": [
    {
     "name": "stderr",
     "output_type": "stream",
     "text": [
      "C:\\Users\\Mouette\\AppData\\Local\\Temp\\ipykernel_12640\\35693158.py:4: SettingWithCopyWarning: \n",
      "A value is trying to be set on a copy of a slice from a DataFrame\n",
      "\n",
      "See the caveats in the documentation: https://pandas.pydata.org/pandas-docs/stable/user_guide/indexing.html#returning-a-view-versus-a-copy\n",
      "  matchdates.drop_duplicates(subset=\"Match ID\",inplace= True)\n"
     ]
    },
    {
     "name": "stdout",
     "output_type": "stream",
     "text": [
      "        Match ID          Match Date\n",
      "0       79200100 2022-09-15 18:32:40\n",
      "10      79200097 2022-09-16 12:53:36\n",
      "20      79200096 2022-09-15 17:35:36\n",
      "30      79200093 2022-09-15 17:02:40\n",
      "40      79200091 2022-09-16 07:14:32\n",
      "...          ...                 ...\n",
      "327850  79296505 2022-09-16 23:11:12\n",
      "327860  79296504 2022-09-17 13:08:16\n",
      "327870  79296503 2022-09-17 11:39:20\n",
      "327880  79296502 2022-09-16 14:18:16\n",
      "327890  79296501 2022-09-17 12:23:44\n",
      "\n",
      "[32860 rows x 2 columns]\n"
     ]
    },
    {
     "name": "stderr",
     "output_type": "stream",
     "text": [
      "C:\\Users\\Mouette\\AppData\\Local\\Temp\\ipykernel_12640\\35693158.py:5: SettingWithCopyWarning: \n",
      "A value is trying to be set on a copy of a slice from a DataFrame.\n",
      "Try using .loc[row_indexer,col_indexer] = value instead\n",
      "\n",
      "See the caveats in the documentation: https://pandas.pydata.org/pandas-docs/stable/user_guide/indexing.html#returning-a-view-versus-a-copy\n",
      "  matchdates[\"Match Date\"] = pd.to_datetime(matchdates[\"Match Date\"])\n"
     ]
    }
   ],
   "source": [
    "\n",
    "match = pd.DataFrame\n",
    "matchdates = data.get([\"Match ID\",\"Match Date\"])\n",
    "# matchdates[\"Match Date\"] = matplotlib.dates.datestr2num(matchdates[\"Match Date\"])\n",
    "matchdates.drop_duplicates(subset=\"Match ID\",inplace= True)\n",
    "matchdates[\"Match Date\"] = pd.to_datetime(matchdates[\"Match Date\"])\n",
    "print(matchdates)"
   ]
  },
  {
   "cell_type": "code",
   "execution_count": 6,
   "metadata": {},
   "outputs": [],
   "source": [
    "# matplotlib.pyplot.plot(matchdates[\"Match ID\"],matchdates[\"Match Date\"])"
   ]
  },
  {
   "cell_type": "code",
   "execution_count": 7,
   "metadata": {},
   "outputs": [
    {
     "data": {
      "image/png": "[encoded data removed]",
      "text/plain": [
       "<Figure size 640x480 with 1 Axes>"
      ]
     },
     "metadata": {},
     "output_type": "display_data"
    }
   ],
   "source": [
    "import matplotlib.pyplot as plt\n",
    "players = data[\"Player ID\"].value_counts()\n",
    "nbPartiesPlayers = [None] * max(players.values)\n",
    "for i in range(max(players.values)):\n",
    "    nbPartiesPlayers[i] = players.drop(players[players.values<i].index).__len__()\n",
    "\n",
    "plt.plot(nbPartiesPlayers)\n",
    "plt.title(\"Players with more than N games\")\n",
    "plt.ylabel(\"Number of Players\")\n",
    "plt.xlabel(\"Number of Parties\")\n",
    "plt.yscale(\"log\")\n",
    "plt.xscale(\"log\")\n",
    "plt.show()"
   ]
  },
  {
   "cell_type": "code",
   "execution_count": 16,
   "metadata": {},
   "outputs": [],
   "source": [
    "csv = pd.DataFrame(players.drop(players[players.values<2].index).index).to_csv(\"PlayersToParse.csv\")"
   ]
  }
 ],
 "metadata": {
  "kernelspec": {
   "display_name": "Python 3.10.7 64-bit",
   "language": "python",
   "name": "python3"
  },
  "language_info": {
   "codemirror_mode": {
    "name": "ipython",
    "version": 3
   },
   "file_extension": ".py",
   "mimetype": "text/x-python",
   "name": "python",
   "nbconvert_exporter": "python",
   "pygments_lexer": "ipython3",
   "version": "3.10.7"
  },
  "orig_nbformat": 4,
  "vscode": {
   "interpreter": {
    "hash": "4e2a1615026d654717ba5bbd93439aa7ec89b037cb88e8811475f30cd55665e0"
   }
  }
 },
 "nbformat": 4,
 "nbformat_minor": 2
}
